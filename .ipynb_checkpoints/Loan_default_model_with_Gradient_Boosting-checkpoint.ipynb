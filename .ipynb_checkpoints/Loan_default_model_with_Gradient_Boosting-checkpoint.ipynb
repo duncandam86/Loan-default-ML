{
 "cells": [
  {
   "cell_type": "markdown",
   "metadata": {},
   "source": [
    "# Predicting Default Loans \n",
    "\n",
    "## 1. INTRODUCTION\n",
    "<a id=\"intro\"></a>\n",
    "The objective is to use the loan data to build a model that can predict the loan status (whether or not a loan will be deafult) and interpret the results to find the factors which affect the result. Such a predictive model could help investors make better-informed investment decisions.\n",
    "\n",
    "We want to develop a model that can maximize **accuracy**(determine by f1-score and roc-auc-score), be easy to  **interpret** and minize **false negative** prediction.\n",
    "\n",
    "This problem is a binary classification as we have only two classes to predict."
   ]
  },
  {
   "cell_type": "code",
   "execution_count": 1,
   "metadata": {},
   "outputs": [],
   "source": [
    "import os\n",
    "import warnings\n",
    "warnings.filterwarnings(action='ignore')\n",
    "import pandas as pd\n",
    "import numpy as np\n",
    "import matplotlib.pyplot as plt\n",
    "import seaborn as sns\n",
    "from datetime import datetime\n",
    "from scipy.stats import ttest_ind, chi2_contingency\n",
    "from statsmodels.stats.proportion import proportions_ztest\n",
    "from sklearn.feature_selection import SelectKBest, chi2\n",
    "from sklearn.linear_model import LogisticRegression\n",
    "from sklearn.tree import DecisionTreeClassifier\n",
    "from sklearn.ensemble import RandomForestClassifier, GradientBoostingClassifier, AdaBoostClassifier, VotingClassifier\n",
    "from sklearn.model_selection import train_test_split, GridSearchCV, cross_val_score\n",
    "from sklearn.metrics import accuracy_score, roc_auc_score, f1_score, confusion_matrix, precision_recall_curve\n",
    "from imblearn.over_sampling import SMOTE\n",
    "from xgboost import XGBClassifier, plot_importance\n",
    "import xgboost\n",
    "from sklearn.preprocessing import RobustScaler"
   ]
  },
  {
   "cell_type": "markdown",
   "metadata": {},
   "source": [
    "## 2. DATA\n",
    "\n",
    "This dataset is provided as a coding challenge by one of the financial tech company in Chicago area.\n",
    "The dataset contains around 80000 enteries and 25 different observations.\n",
    "The target observation contains in the 'loan status' column. So we will take a look of the distribution of all the values in this column"
   ]
  },
  {
   "cell_type": "code",
   "execution_count": 2,
   "metadata": {},
   "outputs": [
    {
     "name": "stdout",
     "output_type": "stream",
     "text": [
      "<class 'pandas.core.frame.DataFrame'>\n",
      "Int64Index: 80000 entries, 88787390 to 84114373\n",
      "Data columns (total 25 columns):\n",
      "loan_amnt                 80000 non-null int64\n",
      "term                      80000 non-null object\n",
      "installment               80000 non-null float64\n",
      "emp_length                75131 non-null object\n",
      "home_ownership            80000 non-null object\n",
      "annual_inc                80000 non-null float64\n",
      "verification_status       80000 non-null object\n",
      "issue_d                   80000 non-null object\n",
      "loan_status               80000 non-null object\n",
      "purpose                   80000 non-null object\n",
      "addr_state                80000 non-null object\n",
      "dti                       80000 non-null float64\n",
      "earliest_cr_line          80000 non-null object\n",
      "fico_range_low            80000 non-null int64\n",
      "fico_range_high           80000 non-null int64\n",
      "last_credit_pull_d        79996 non-null object\n",
      "last_fico_range_high      80000 non-null int64\n",
      "last_fico_range_low       80000 non-null int64\n",
      "acc_now_delinq            80000 non-null int64\n",
      "delinq_amnt               80000 non-null int64\n",
      "delinq_2yrs               80000 non-null int64\n",
      "mths_since_last_delinq    41786 non-null float64\n",
      "mths_since_last_record    14532 non-null float64\n",
      "inq_last_6mths            80000 non-null int64\n",
      "inq_last_12m              37395 non-null float64\n",
      "dtypes: float64(6), int64(9), object(10)\n",
      "memory usage: 15.9+ MB\n",
      "None\n"
     ]
    },
    {
     "data": {
      "text/html": [
       "<div>\n",
       "<style scoped>\n",
       "    .dataframe tbody tr th:only-of-type {\n",
       "        vertical-align: middle;\n",
       "    }\n",
       "\n",
       "    .dataframe tbody tr th {\n",
       "        vertical-align: top;\n",
       "    }\n",
       "\n",
       "    .dataframe thead th {\n",
       "        text-align: right;\n",
       "    }\n",
       "</style>\n",
       "<table border=\"1\" class=\"dataframe\">\n",
       "  <thead>\n",
       "    <tr style=\"text-align: right;\">\n",
       "      <th></th>\n",
       "      <th>loan_amnt</th>\n",
       "      <th>term</th>\n",
       "      <th>installment</th>\n",
       "      <th>emp_length</th>\n",
       "      <th>home_ownership</th>\n",
       "      <th>annual_inc</th>\n",
       "      <th>verification_status</th>\n",
       "      <th>issue_d</th>\n",
       "      <th>loan_status</th>\n",
       "      <th>purpose</th>\n",
       "      <th>...</th>\n",
       "      <th>last_credit_pull_d</th>\n",
       "      <th>last_fico_range_high</th>\n",
       "      <th>last_fico_range_low</th>\n",
       "      <th>acc_now_delinq</th>\n",
       "      <th>delinq_amnt</th>\n",
       "      <th>delinq_2yrs</th>\n",
       "      <th>mths_since_last_delinq</th>\n",
       "      <th>mths_since_last_record</th>\n",
       "      <th>inq_last_6mths</th>\n",
       "      <th>inq_last_12m</th>\n",
       "    </tr>\n",
       "    <tr>\n",
       "      <th>id</th>\n",
       "      <th></th>\n",
       "      <th></th>\n",
       "      <th></th>\n",
       "      <th></th>\n",
       "      <th></th>\n",
       "      <th></th>\n",
       "      <th></th>\n",
       "      <th></th>\n",
       "      <th></th>\n",
       "      <th></th>\n",
       "      <th></th>\n",
       "      <th></th>\n",
       "      <th></th>\n",
       "      <th></th>\n",
       "      <th></th>\n",
       "      <th></th>\n",
       "      <th></th>\n",
       "      <th></th>\n",
       "      <th></th>\n",
       "      <th></th>\n",
       "      <th></th>\n",
       "    </tr>\n",
       "  </thead>\n",
       "  <tbody>\n",
       "    <tr>\n",
       "      <th>42091354</th>\n",
       "      <td>35000</td>\n",
       "      <td>36 months</td>\n",
       "      <td>1095.00</td>\n",
       "      <td>10+ years</td>\n",
       "      <td>MORTGAGE</td>\n",
       "      <td>225000.0</td>\n",
       "      <td>Source Verified</td>\n",
       "      <td>3/15/2019</td>\n",
       "      <td>Current</td>\n",
       "      <td>debt_consolidation</td>\n",
       "      <td>...</td>\n",
       "      <td>16-Dec</td>\n",
       "      <td>824</td>\n",
       "      <td>820</td>\n",
       "      <td>0</td>\n",
       "      <td>0</td>\n",
       "      <td>0</td>\n",
       "      <td>NaN</td>\n",
       "      <td>NaN</td>\n",
       "      <td>1</td>\n",
       "      <td>NaN</td>\n",
       "    </tr>\n",
       "    <tr>\n",
       "      <th>53814433</th>\n",
       "      <td>35000</td>\n",
       "      <td>60 months</td>\n",
       "      <td>760.82</td>\n",
       "      <td>8 years</td>\n",
       "      <td>OWN</td>\n",
       "      <td>275000.0</td>\n",
       "      <td>Source Verified</td>\n",
       "      <td>7/15/2019</td>\n",
       "      <td>Current</td>\n",
       "      <td>debt_consolidation</td>\n",
       "      <td>...</td>\n",
       "      <td>16-Dec</td>\n",
       "      <td>749</td>\n",
       "      <td>745</td>\n",
       "      <td>0</td>\n",
       "      <td>0</td>\n",
       "      <td>4</td>\n",
       "      <td>5.0</td>\n",
       "      <td>NaN</td>\n",
       "      <td>0</td>\n",
       "      <td>NaN</td>\n",
       "    </tr>\n",
       "    <tr>\n",
       "      <th>68852463</th>\n",
       "      <td>10000</td>\n",
       "      <td>36 months</td>\n",
       "      <td>326.35</td>\n",
       "      <td>NaN</td>\n",
       "      <td>MORTGAGE</td>\n",
       "      <td>36000.0</td>\n",
       "      <td>Verified</td>\n",
       "      <td>1/16/2019</td>\n",
       "      <td>Current</td>\n",
       "      <td>other</td>\n",
       "      <td>...</td>\n",
       "      <td>16-Dec</td>\n",
       "      <td>704</td>\n",
       "      <td>700</td>\n",
       "      <td>0</td>\n",
       "      <td>0</td>\n",
       "      <td>0</td>\n",
       "      <td>NaN</td>\n",
       "      <td>NaN</td>\n",
       "      <td>0</td>\n",
       "      <td>1.0</td>\n",
       "    </tr>\n",
       "    <tr>\n",
       "      <th>56119361</th>\n",
       "      <td>2500</td>\n",
       "      <td>36 months</td>\n",
       "      <td>89.85</td>\n",
       "      <td>2 years</td>\n",
       "      <td>RENT</td>\n",
       "      <td>50000.0</td>\n",
       "      <td>Source Verified</td>\n",
       "      <td>7/15/2019</td>\n",
       "      <td>Fully Paid</td>\n",
       "      <td>home_improvement</td>\n",
       "      <td>...</td>\n",
       "      <td>16-Dec</td>\n",
       "      <td>699</td>\n",
       "      <td>695</td>\n",
       "      <td>0</td>\n",
       "      <td>0</td>\n",
       "      <td>0</td>\n",
       "      <td>NaN</td>\n",
       "      <td>NaN</td>\n",
       "      <td>1</td>\n",
       "      <td>NaN</td>\n",
       "    </tr>\n",
       "    <tr>\n",
       "      <th>39178339</th>\n",
       "      <td>18000</td>\n",
       "      <td>60 months</td>\n",
       "      <td>421.73</td>\n",
       "      <td>2 years</td>\n",
       "      <td>RENT</td>\n",
       "      <td>50000.0</td>\n",
       "      <td>Source Verified</td>\n",
       "      <td>1/15/2019</td>\n",
       "      <td>Current</td>\n",
       "      <td>credit_card</td>\n",
       "      <td>...</td>\n",
       "      <td>16-Dec</td>\n",
       "      <td>664</td>\n",
       "      <td>660</td>\n",
       "      <td>0</td>\n",
       "      <td>0</td>\n",
       "      <td>0</td>\n",
       "      <td>NaN</td>\n",
       "      <td>NaN</td>\n",
       "      <td>0</td>\n",
       "      <td>NaN</td>\n",
       "    </tr>\n",
       "  </tbody>\n",
       "</table>\n",
       "<p>5 rows × 25 columns</p>\n",
       "</div>"
      ],
      "text/plain": [
       "          loan_amnt       term  installment emp_length home_ownership  \\\n",
       "id                                                                      \n",
       "42091354      35000  36 months      1095.00  10+ years       MORTGAGE   \n",
       "53814433      35000  60 months       760.82    8 years            OWN   \n",
       "68852463      10000  36 months       326.35        NaN       MORTGAGE   \n",
       "56119361       2500  36 months        89.85    2 years           RENT   \n",
       "39178339      18000  60 months       421.73    2 years           RENT   \n",
       "\n",
       "          annual_inc verification_status    issue_d loan_status  \\\n",
       "id                                                                \n",
       "42091354    225000.0     Source Verified  3/15/2019     Current   \n",
       "53814433    275000.0     Source Verified  7/15/2019     Current   \n",
       "68852463     36000.0            Verified  1/16/2019     Current   \n",
       "56119361     50000.0     Source Verified  7/15/2019  Fully Paid   \n",
       "39178339     50000.0     Source Verified  1/15/2019     Current   \n",
       "\n",
       "                     purpose  ... last_credit_pull_d  last_fico_range_high  \\\n",
       "id                            ...                                            \n",
       "42091354  debt_consolidation  ...             16-Dec                   824   \n",
       "53814433  debt_consolidation  ...             16-Dec                   749   \n",
       "68852463               other  ...             16-Dec                   704   \n",
       "56119361    home_improvement  ...             16-Dec                   699   \n",
       "39178339         credit_card  ...             16-Dec                   664   \n",
       "\n",
       "         last_fico_range_low  acc_now_delinq  delinq_amnt delinq_2yrs  \\\n",
       "id                                                                      \n",
       "42091354                 820               0            0           0   \n",
       "53814433                 745               0            0           4   \n",
       "68852463                 700               0            0           0   \n",
       "56119361                 695               0            0           0   \n",
       "39178339                 660               0            0           0   \n",
       "\n",
       "          mths_since_last_delinq  mths_since_last_record  inq_last_6mths  \\\n",
       "id                                                                         \n",
       "42091354                     NaN                     NaN               1   \n",
       "53814433                     5.0                     NaN               0   \n",
       "68852463                     NaN                     NaN               0   \n",
       "56119361                     NaN                     NaN               1   \n",
       "39178339                     NaN                     NaN               0   \n",
       "\n",
       "          inq_last_12m  \n",
       "id                      \n",
       "42091354           NaN  \n",
       "53814433           NaN  \n",
       "68852463           1.0  \n",
       "56119361           NaN  \n",
       "39178339           NaN  \n",
       "\n",
       "[5 rows x 25 columns]"
      ]
     },
     "metadata": {},
     "output_type": "display_data"
    },
    {
     "name": "stdout",
     "output_type": "stream",
     "text": [
      "Loan status distribution:\n",
      "Current       62429\n",
      "Fully Paid    11534\n",
      "Default        6037\n",
      "Name: loan_status, dtype: int64\n"
     ]
    }
   ],
   "source": [
    "#Using panda to read csv file into a dataframe\n",
    "df = pd.read_csv('Data_(5).csv', index_col = 'id')\n",
    "print(df.info())\n",
    "display(df.sample(5))\n",
    "\n",
    "#select loan_status column as our target variable and inspect the distribution of the values\n",
    "print('Loan status distribution:')\n",
    "print(df['loan_status'].value_counts())"
   ]
  },
  {
   "cell_type": "markdown",
   "metadata": {},
   "source": [
    "### A) Determine right information for target value\n",
    "\n",
    "The instances with 'Default' in the loan_status column will be considered as positive. \n",
    "Further, we can have several approaches with the data provided in the loan_status column to determine if the borrower does not default on a loan.\n",
    "* First scenerio: If we decide that only 'Fully paid' borrowers are non-default borrowers, we will create a new dataframe that will consist of all columns with rows that only contain either ' Fully paid' or 'Default' on 'loan_status' feature. However, this approach will reduce dataframe from roughly 800000 rows to roughly 17000 rows. Over 60000 instances ('Current' on 'loan_status') were dropped from the dataset. \n",
    "* Second scenerio: Based on feature dictionary, 'Default' indicates absolute positive obervation (borrower default on loan). 'Fully Paid' indicates absolute negative observation (borrow definitely pays off loan). 'Current' indicate the borrower is in the progress of making payment for the loan; however, they can potentially default or make full payment. If we decide to treat 'Current' as borrowers who defintely will make full payment (equal to Fully Paid), we will have to take into consideration that 'Current' borrowers may still result into a default loan.\n",
    "\n",
    "Because there is not enough information in the dataset to determine that borrowers with status of 'Current' will either default or not default on the loan, I choose the first scenerio since the dataset will have less noise. Plus, while losing approx. 60000 lines in the dataset, 17000 lines for the dataset can be enough for training the model. We can use also the 60000 droppped instances of dataset as a new test set of data when future information on the loan_status is collected. "
   ]
  },
  {
   "cell_type": "code",
   "execution_count": 3,
   "metadata": {},
   "outputs": [
    {
     "name": "stdout",
     "output_type": "stream",
     "text": [
      "Dimension of the new dataframe: \n",
      "(17571, 25)\n",
      "Distribution of the total data:\n",
      "Fully Paid    0.656423\n",
      "Default       0.343577\n",
      "Name: loan_status, dtype: float64\n"
     ]
    }
   ],
   "source": [
    "#new df with only fully paid and default loans\n",
    "df = df.loc[df['loan_status'].isin(['Fully Paid','Default'])]\n",
    "print('Dimension of the new dataframe: ')\n",
    "print(df.shape)\n",
    "print('Distribution of the total data:')\n",
    "print(df['loan_status'].value_counts(normalize = True)) #66% of samples are fully paid and 34% of samples are default"
   ]
  },
  {
   "cell_type": "markdown",
   "metadata": {},
   "source": [
    "## 3. CLEANING DATA\n",
    "\n",
    "In order to get the dataset ready for machine learning models, all categorical (dtype = object) need to be converted into numerical data. However, before performing transformation of data, unnecessary features and missing values will need to be processed and determine whether it is appropiate to remove these data."
   ]
  },
  {
   "cell_type": "code",
   "execution_count": 4,
   "metadata": {},
   "outputs": [],
   "source": [
    "#function to drop columns\n",
    "def drop_cols(cols):\n",
    "    df.drop(cols, axis =1, inplace = True)"
   ]
  },
  {
   "cell_type": "markdown",
   "metadata": {},
   "source": [
    "### A. UNNECESSARY FEATURES:\n",
    "The model is set to predict whether a new borrowers will pay off or default their loan before making the decision to lend the loan. \n",
    "* After inspecting the definition of each feature, 'last_fico_range_low','last_fico_range_high' and 'last_credit_pull_d' columns, whose information was collected after the loan decision has been made, are selected to remove in order to reduce noise of dataset"
   ]
  },
  {
   "cell_type": "code",
   "execution_count": 5,
   "metadata": {},
   "outputs": [
    {
     "name": "stdout",
     "output_type": "stream",
     "text": [
      "(17571, 22)\n"
     ]
    }
   ],
   "source": [
    "#drop columns contain after-loan features\n",
    "after_loan_cols = ['last_fico_range_low','last_fico_range_high', 'last_credit_pull_d']\n",
    "drop_cols(after_loan_cols)\n",
    "print(df.shape)"
   ]
  },
  {
   "cell_type": "markdown",
   "metadata": {},
   "source": [
    "Because the amount of default loans seems to be propotional to that of fully paid loans per each state, indicating that there is no bias on defaulting of a loan based on location of the borrower. I also decide to drop the 'addr_state' feature"
   ]
  },
  {
   "cell_type": "code",
   "execution_count": 6,
   "metadata": {},
   "outputs": [
    {
     "name": "stdout",
     "output_type": "stream",
     "text": [
      "0.9850426405018397\n",
      "(17571, 21)\n"
     ]
    }
   ],
   "source": [
    "#inspecting addr_state column\n",
    "x = df['addr_state'].loc[df['loan_status'] == 'Default'].value_counts()\n",
    "y = df['addr_state'].loc[df['loan_status'] == 'Fully Paid'].value_counts()\n",
    "print(x.corr(y)) #0.98 correlation\n",
    "#drop addr_state\n",
    "drop_cols('addr_state')\n",
    "print(df.shape)"
   ]
  },
  {
   "cell_type": "markdown",
   "metadata": {},
   "source": [
    "### B. MISSING VALUES\n",
    "\n",
    "A function to determine missing value and a table summarized all missing values in each column are created. We noticed that there are 2 columns with more than 70% missing value. One column with 45% missing value and one column with approx 5% missing value. We will treat the missing values in these column differently"
   ]
  },
  {
   "cell_type": "code",
   "execution_count": 7,
   "metadata": {},
   "outputs": [
    {
     "name": "stdout",
     "output_type": "stream",
     "text": [
      "Missing Table\n"
     ]
    },
    {
     "data": {
      "text/html": [
       "<div>\n",
       "<style scoped>\n",
       "    .dataframe tbody tr th:only-of-type {\n",
       "        vertical-align: middle;\n",
       "    }\n",
       "\n",
       "    .dataframe tbody tr th {\n",
       "        vertical-align: top;\n",
       "    }\n",
       "\n",
       "    .dataframe thead th {\n",
       "        text-align: right;\n",
       "    }\n",
       "</style>\n",
       "<table border=\"1\" class=\"dataframe\">\n",
       "  <thead>\n",
       "    <tr style=\"text-align: right;\">\n",
       "      <th></th>\n",
       "      <th>total missing values</th>\n",
       "      <th>total % of missing value</th>\n",
       "      <th>data type</th>\n",
       "    </tr>\n",
       "  </thead>\n",
       "  <tbody>\n",
       "    <tr>\n",
       "      <th>loan_amnt</th>\n",
       "      <td>0</td>\n",
       "      <td>0.000000</td>\n",
       "      <td>int64</td>\n",
       "    </tr>\n",
       "    <tr>\n",
       "      <th>term</th>\n",
       "      <td>0</td>\n",
       "      <td>0.000000</td>\n",
       "      <td>object</td>\n",
       "    </tr>\n",
       "    <tr>\n",
       "      <th>installment</th>\n",
       "      <td>0</td>\n",
       "      <td>0.000000</td>\n",
       "      <td>float64</td>\n",
       "    </tr>\n",
       "    <tr>\n",
       "      <th>emp_length</th>\n",
       "      <td>1005</td>\n",
       "      <td>5.719652</td>\n",
       "      <td>object</td>\n",
       "    </tr>\n",
       "    <tr>\n",
       "      <th>home_ownership</th>\n",
       "      <td>0</td>\n",
       "      <td>0.000000</td>\n",
       "      <td>object</td>\n",
       "    </tr>\n",
       "    <tr>\n",
       "      <th>annual_inc</th>\n",
       "      <td>0</td>\n",
       "      <td>0.000000</td>\n",
       "      <td>float64</td>\n",
       "    </tr>\n",
       "    <tr>\n",
       "      <th>verification_status</th>\n",
       "      <td>0</td>\n",
       "      <td>0.000000</td>\n",
       "      <td>object</td>\n",
       "    </tr>\n",
       "    <tr>\n",
       "      <th>issue_d</th>\n",
       "      <td>0</td>\n",
       "      <td>0.000000</td>\n",
       "      <td>object</td>\n",
       "    </tr>\n",
       "    <tr>\n",
       "      <th>loan_status</th>\n",
       "      <td>0</td>\n",
       "      <td>0.000000</td>\n",
       "      <td>object</td>\n",
       "    </tr>\n",
       "    <tr>\n",
       "      <th>purpose</th>\n",
       "      <td>0</td>\n",
       "      <td>0.000000</td>\n",
       "      <td>object</td>\n",
       "    </tr>\n",
       "    <tr>\n",
       "      <th>dti</th>\n",
       "      <td>0</td>\n",
       "      <td>0.000000</td>\n",
       "      <td>float64</td>\n",
       "    </tr>\n",
       "    <tr>\n",
       "      <th>earliest_cr_line</th>\n",
       "      <td>0</td>\n",
       "      <td>0.000000</td>\n",
       "      <td>object</td>\n",
       "    </tr>\n",
       "    <tr>\n",
       "      <th>fico_range_low</th>\n",
       "      <td>0</td>\n",
       "      <td>0.000000</td>\n",
       "      <td>int64</td>\n",
       "    </tr>\n",
       "    <tr>\n",
       "      <th>fico_range_high</th>\n",
       "      <td>0</td>\n",
       "      <td>0.000000</td>\n",
       "      <td>int64</td>\n",
       "    </tr>\n",
       "    <tr>\n",
       "      <th>acc_now_delinq</th>\n",
       "      <td>0</td>\n",
       "      <td>0.000000</td>\n",
       "      <td>int64</td>\n",
       "    </tr>\n",
       "    <tr>\n",
       "      <th>delinq_amnt</th>\n",
       "      <td>0</td>\n",
       "      <td>0.000000</td>\n",
       "      <td>int64</td>\n",
       "    </tr>\n",
       "    <tr>\n",
       "      <th>delinq_2yrs</th>\n",
       "      <td>0</td>\n",
       "      <td>0.000000</td>\n",
       "      <td>int64</td>\n",
       "    </tr>\n",
       "    <tr>\n",
       "      <th>mths_since_last_delinq</th>\n",
       "      <td>8326</td>\n",
       "      <td>47.384896</td>\n",
       "      <td>float64</td>\n",
       "    </tr>\n",
       "    <tr>\n",
       "      <th>mths_since_last_record</th>\n",
       "      <td>14171</td>\n",
       "      <td>80.649935</td>\n",
       "      <td>float64</td>\n",
       "    </tr>\n",
       "    <tr>\n",
       "      <th>inq_last_6mths</th>\n",
       "      <td>0</td>\n",
       "      <td>0.000000</td>\n",
       "      <td>int64</td>\n",
       "    </tr>\n",
       "    <tr>\n",
       "      <th>inq_last_12m</th>\n",
       "      <td>12970</td>\n",
       "      <td>73.814808</td>\n",
       "      <td>float64</td>\n",
       "    </tr>\n",
       "  </tbody>\n",
       "</table>\n",
       "</div>"
      ],
      "text/plain": [
       "                        total missing values  total % of missing value  \\\n",
       "loan_amnt                                  0                  0.000000   \n",
       "term                                       0                  0.000000   \n",
       "installment                                0                  0.000000   \n",
       "emp_length                              1005                  5.719652   \n",
       "home_ownership                             0                  0.000000   \n",
       "annual_inc                                 0                  0.000000   \n",
       "verification_status                        0                  0.000000   \n",
       "issue_d                                    0                  0.000000   \n",
       "loan_status                                0                  0.000000   \n",
       "purpose                                    0                  0.000000   \n",
       "dti                                        0                  0.000000   \n",
       "earliest_cr_line                           0                  0.000000   \n",
       "fico_range_low                             0                  0.000000   \n",
       "fico_range_high                            0                  0.000000   \n",
       "acc_now_delinq                             0                  0.000000   \n",
       "delinq_amnt                                0                  0.000000   \n",
       "delinq_2yrs                                0                  0.000000   \n",
       "mths_since_last_delinq                  8326                 47.384896   \n",
       "mths_since_last_record                 14171                 80.649935   \n",
       "inq_last_6mths                             0                  0.000000   \n",
       "inq_last_12m                           12970                 73.814808   \n",
       "\n",
       "                       data type  \n",
       "loan_amnt                  int64  \n",
       "term                      object  \n",
       "installment              float64  \n",
       "emp_length                object  \n",
       "home_ownership            object  \n",
       "annual_inc               float64  \n",
       "verification_status       object  \n",
       "issue_d                   object  \n",
       "loan_status               object  \n",
       "purpose                   object  \n",
       "dti                      float64  \n",
       "earliest_cr_line          object  \n",
       "fico_range_low             int64  \n",
       "fico_range_high            int64  \n",
       "acc_now_delinq             int64  \n",
       "delinq_amnt                int64  \n",
       "delinq_2yrs                int64  \n",
       "mths_since_last_delinq   float64  \n",
       "mths_since_last_record   float64  \n",
       "inq_last_6mths             int64  \n",
       "inq_last_12m             float64  "
      ]
     },
     "metadata": {},
     "output_type": "display_data"
    }
   ],
   "source": [
    "#function to determine columns with missing values\n",
    "def miss_val(df):\n",
    "    '''Determine number of percentage of missing values in a columnn'''\n",
    "    #number of total missing value in the column\n",
    "    miss_val = df.isnull().sum()\n",
    "    #percent of total missing value\n",
    "    miss_val_percent = 100*(df.isnull().sum())/len(df)\n",
    "    #missing value type\n",
    "    miss_val_type = df.dtypes\n",
    "    #create a missing value table\n",
    "    miss_val_table = pd.concat([miss_val, miss_val_percent, miss_val_type], axis =1).rename(columns= {0: 'total missing values', 1:'total % of missing value', 2: 'data type'})\n",
    "    return miss_val_table\n",
    "print('Missing Table')\n",
    "display(miss_val(df))"
   ]
  },
  {
   "cell_type": "markdown",
   "metadata": {},
   "source": [
    "For colunms with more than 70% of missing values (mths_since_last_record, inq_last_12m), I decide to remove these columns from the dataset"
   ]
  },
  {
   "cell_type": "code",
   "execution_count": 8,
   "metadata": {},
   "outputs": [
    {
     "name": "stdout",
     "output_type": "stream",
     "text": [
      "(17571, 19)\n"
     ]
    }
   ],
   "source": [
    "#select columns that have more than 50% of missing values to drop from dataframe\n",
    "dropped_features_list = sorted(df.isnull().sum()[df.isnull().mean() > 0.5].index) \n",
    "#drop columns that have too many missing values (>50%)\n",
    "drop_cols(dropped_features_list)\n",
    "print(df.shape)"
   ]
  },
  {
   "cell_type": "markdown",
   "metadata": {},
   "source": [
    "Although, column 'mths_since_last_delinq' contains almost 47% missing value, this feature can be important to determine loan default. We created a new column (delinq_before) contains all missing values of 'mths_since_last_delinq' converted to 0 - as no previous delinquency, and non-missing values converted to 1 - as have previous deliquency"
   ]
  },
  {
   "cell_type": "code",
   "execution_count": 9,
   "metadata": {},
   "outputs": [
    {
     "name": "stdout",
     "output_type": "stream",
     "text": [
      "(17571, 19)\n"
     ]
    }
   ],
   "source": [
    "#convert 'mths_since_last_delinq' column into 'delinq_before' with Yes: 1, No: 0\n",
    "df['mths_since_last_delinq'].loc[df['mths_since_last_delinq'].notnull()] = 1\n",
    "df['mths_since_last_delinq'].loc[df['mths_since_last_delinq'].isnull()] = 0\n",
    "df['delinq_before'] = df['mths_since_last_delinq']\n",
    "drop_cols('mths_since_last_delinq')\n",
    "print(df.shape)"
   ]
  },
  {
   "cell_type": "markdown",
   "metadata": {},
   "source": [
    "There are around 1000 NaN values (less than 5% of the total instances) in emp_length column. The distribution of the NaN value is not much different between default and fully paid loans. Thus, all NaN values can be removed in emp_length column."
   ]
  },
  {
   "cell_type": "code",
   "execution_count": 10,
   "metadata": {},
   "outputs": [
    {
     "name": "stdout",
     "output_type": "stream",
     "text": [
      "Distribution of NaN value in emp_length\n",
      "loan_status       \n",
      "Default      False     5621\n",
      "             True       416\n",
      "Fully Paid   False    10945\n",
      "             True       589\n",
      "Name: emp_length, dtype: int64\n",
      "Current shape of the dataframe:\n",
      "(16566, 19)\n"
     ]
    }
   ],
   "source": [
    "#inspect NaN distribution in 'emp_length'\n",
    "print('Distribution of NaN value in emp_length')\n",
    "print(df.groupby('loan_status')['emp_length'].apply(lambda x: x.isnull().value_counts()))\n",
    "'''the distribution of the NaN value is not much different between default and fully paid loan'''\n",
    "#drop all NaN value in 'emp_length'\n",
    "df = df.dropna(subset=['emp_length'])\n",
    "print('Current shape of the dataframe:')\n",
    "print(df.shape)"
   ]
  },
  {
   "cell_type": "markdown",
   "metadata": {},
   "source": [
    "We also convert the entry of emp_length column from text into integer. By converting '10+ years' to '10 year' and '<1 year' to '0 year'. We then convert all of text into numeric values ranging from 0 to 10. \n",
    "After this process, the column is ready to be input in machine learning model."
   ]
  },
  {
   "cell_type": "code",
   "execution_count": 11,
   "metadata": {},
   "outputs": [
    {
     "name": "stdout",
     "output_type": "stream",
     "text": [
      "(16566, 19)\n"
     ]
    }
   ],
   "source": [
    "#Convert emp_length data from object to numeric data based on description\n",
    "#convert all 10+ years data to 10 years\n",
    "df['emp_length'].replace('10+ years', '10 years', inplace = True)\n",
    "#convert all '< 1 year' data to 0 year\n",
    "df['emp_length'].replace('< 1 year', '0 year', inplace= True)\n",
    "#convert all to numeric\n",
    "df['emp_length'] = df['emp_length'].map(lambda x: float(str(x).split( )[0]))\n",
    "\n",
    "#Convert term data from object to numeric data\n",
    "df['term'] = df['term'].map(lambda y: float(str(y).split( )[0]))\n",
    "\n",
    "#convert salary verification into numeric data. Verified/Source Verified (Yes):1 Not Verified (No): 0\n",
    "df['salary_verified'] = df['verification_status'].apply(lambda x: np.float(np.logical_or(x == 'Verified', x=='Source Verified')))\n",
    "drop_cols('verification_status')\n",
    "print(df.shape)"
   ]
  },
  {
   "cell_type": "markdown",
   "metadata": {},
   "source": [
    "### C. CREATE NEW FEATURES \n",
    "#### i. interest_rate feature:\n",
    "* The 3 columns, 'loan_amnt', 'installment' and 'term', can be used to calculate interest_rate of a loan. Furthermore, these 3 features are also highly correlated with one another.\n",
    "* A new feature called 'interest_rate' = 100% * ('term'*'installment'-'loan_amnt')/'loan_amnt'\n",
    "* This feature turns out to be a good predictor for default borrower. Higher interest-rate borrowers tend to default loan more on average compared to lower interest-rate borrowers \n",
    "* 'loan-amnt' and 'term' columns are dropped to reduce noise of the dataset."
   ]
  },
  {
   "cell_type": "code",
   "execution_count": 12,
   "metadata": {},
   "outputs": [
    {
     "name": "stdout",
     "output_type": "stream",
     "text": [
      "             loan_amnt  installment      term\n",
      "loan_amnt     1.000000     0.947910  0.406776\n",
      "installment   0.947910     1.000000  0.152081\n",
      "term          0.406776     0.152081  1.000000\n",
      "(16566, 18)\n"
     ]
    }
   ],
   "source": [
    "#Inspect correlation of loan_amnt, installment, and term\n",
    "loan_cols = ['loan_amnt','installment', 'term']\n",
    "print(df[loan_cols].corr())\n",
    "#Because loan_amnt, installment and term can be used to calculate interest_rate of a loan, create new interest_rate feature\n",
    "df['interest_rate']=100*(df['term']*df['installment']-df['loan_amnt'])/(df['loan_amnt'])\n",
    "#Drop term and loan_amnt to prevent noise\n",
    "drop_cols(['loan_amnt', 'term'])\n",
    "print(df.shape)"
   ]
  },
  {
   "cell_type": "markdown",
   "metadata": {},
   "source": [
    "#### ii. Credit_length feature: \n",
    "* Because the dataset provided information of on borrower's eariliest credit line, we can calculate an approx. credit length of the borrower by substracting year of earliest credit line ('earliest_cr_line') to the year of loan issuse date ('issue_d) and create a new credit_length column.\n",
    "* Credit_length data also indicates that borrowers with longer credit length are less likely to default compared to borrowers with shorter credit length"
   ]
  },
  {
   "cell_type": "code",
   "execution_count": 13,
   "metadata": {},
   "outputs": [],
   "source": [
    "#Convert both issue_d and earliest_cr_line to datetime and extract the year\n",
    "df['issue_year'] = pd.to_datetime(df['issue_d'], format = '%m/%d/%Y').dt.year\n",
    "df['earliest_cr_line_yr'] = pd.to_datetime(df['earliest_cr_line'], format = '%m/%d/%Y').dt.year\n",
    "#Since credit length of the borrower may have affect on their risk to default or payoff loan\n",
    "#Calculate credit length from earliest_cr_line_year and issue_year\n",
    "df['credit_length'] = df['issue_year'] - df['earliest_cr_line_yr']\n",
    "drop_cols(['issue_year', 'issue_d','earliest_cr_line_yr', 'earliest_cr_line'])"
   ]
  },
  {
   "cell_type": "markdown",
   "metadata": {},
   "source": [
    "#### iii. fico_score feature: \n",
    "* 'fico_range_low' and 'fico_range_high' are also highly linear. I decide to create an new column called fico_score which take the avarage of the two former columns\n",
    "* fico_score also appears to be important to make prediction of default borrower, lower FICO score borrowers are more likely to default on loan."
   ]
  },
  {
   "cell_type": "code",
   "execution_count": 14,
   "metadata": {},
   "outputs": [
    {
     "name": "stdout",
     "output_type": "stream",
     "text": [
      "                 fico_range_low  fico_range_high\n",
      "fico_range_low              1.0              1.0\n",
      "fico_range_high             1.0              1.0\n"
     ]
    }
   ],
   "source": [
    "#Because there are two FICO range score, I inspect correlation of fico_rang_low and fico_rang_high\n",
    "fico_cols = ['fico_range_low','fico_range_high']\n",
    "print(df[fico_cols].corr())\n",
    "#These two value are highly correlated with each other. I will take a average of two and create a new col as fico_score\n",
    "df['fico_score'] = (df['fico_range_low']+ df['fico_range_high'])/2\n",
    "drop_cols(fico_cols)"
   ]
  },
  {
   "cell_type": "code",
   "execution_count": 15,
   "metadata": {},
   "outputs": [
    {
     "name": "stdout",
     "output_type": "stream",
     "text": [
      "Current shape of the dataframe:\n",
      "(16566, 16)\n"
     ]
    }
   ],
   "source": [
    "#Inspect the shape of the dataframe\n",
    "print('Current shape of the dataframe:')\n",
    "print(df.shape)"
   ]
  },
  {
   "cell_type": "markdown",
   "metadata": {},
   "source": [
    "## 3. EXPLORATORY DATA ANALYSIS\n",
    "\n",
    "### A. Numeric Columns\n",
    "\n",
    "I will perform EDA on all columns of the dataframe. Comparing the means of Default group and Fully-paid group using student t-test for numeric columns to determine if there is significant difference using p-value. Null Hypothesis: No difference between the means of two groups''\n",
    "* While outliers can be determined by 25%tile, 75%tile,  I decide to keep all values to prevent further reduction of dataset. Outliers will later be dealt with in model using RobustScaler\n",
    "* With assumption that all numeric features are nomally distributed, I calculated t-statistics and p-values of Student t-test to compare the means of the default group and fully paid group against null hypothesis that there is no significant difference between the two means.\n",
    "* The Student's t-test indicates that for all features, there is significant difference between the means of two groups with p < 0.05 (95% CI)\n",
    "* These analyses indicate that all of these features are important for our predictive model\n",
    "* List of features: 'installment','interest_rate','emp_length','annual_inc','dti','fico_score','credit_length','acc_now_delinq','delinq_amnt','delinq_2yrs','inq_last_6mths'\n"
   ]
  },
  {
   "cell_type": "code",
   "execution_count": 16,
   "metadata": {},
   "outputs": [
    {
     "name": "stdout",
     "output_type": "stream",
     "text": [
      "COVARIANCE MATRIX OF ALL NUMERIC COLUMNS\n"
     ]
    },
    {
     "data": {
      "text/html": [
       "<div>\n",
       "<style scoped>\n",
       "    .dataframe tbody tr th:only-of-type {\n",
       "        vertical-align: middle;\n",
       "    }\n",
       "\n",
       "    .dataframe tbody tr th {\n",
       "        vertical-align: top;\n",
       "    }\n",
       "\n",
       "    .dataframe thead th {\n",
       "        text-align: right;\n",
       "    }\n",
       "</style>\n",
       "<table border=\"1\" class=\"dataframe\">\n",
       "  <thead>\n",
       "    <tr style=\"text-align: right;\">\n",
       "      <th></th>\n",
       "      <th>installment</th>\n",
       "      <th>interest_rate</th>\n",
       "      <th>emp_length</th>\n",
       "      <th>annual_inc</th>\n",
       "      <th>dti</th>\n",
       "      <th>fico_score</th>\n",
       "      <th>credit_length</th>\n",
       "      <th>acc_now_delinq</th>\n",
       "      <th>delinq_amnt</th>\n",
       "      <th>delinq_2yrs</th>\n",
       "      <th>inq_last_6mths</th>\n",
       "    </tr>\n",
       "  </thead>\n",
       "  <tbody>\n",
       "    <tr>\n",
       "      <th>installment</th>\n",
       "      <td>6.983194e+04</td>\n",
       "      <td>1027.851694</td>\n",
       "      <td>55.981033</td>\n",
       "      <td>5.565984e+06</td>\n",
       "      <td>8.264000</td>\n",
       "      <td>494.925363</td>\n",
       "      <td>408.493494</td>\n",
       "      <td>0.174784</td>\n",
       "      <td>-1990.295193</td>\n",
       "      <td>-0.915837</td>\n",
       "      <td>4.295756</td>\n",
       "    </tr>\n",
       "    <tr>\n",
       "      <th>interest_rate</th>\n",
       "      <td>1.027852e+03</td>\n",
       "      <td>288.528167</td>\n",
       "      <td>0.629658</td>\n",
       "      <td>-2.077174e+04</td>\n",
       "      <td>29.124185</td>\n",
       "      <td>-113.544807</td>\n",
       "      <td>-16.151167</td>\n",
       "      <td>0.044524</td>\n",
       "      <td>243.746638</td>\n",
       "      <td>0.435330</td>\n",
       "      <td>2.140353</td>\n",
       "    </tr>\n",
       "    <tr>\n",
       "      <th>emp_length</th>\n",
       "      <td>5.598103e+01</td>\n",
       "      <td>0.629658</td>\n",
       "      <td>13.819096</td>\n",
       "      <td>1.831174e+04</td>\n",
       "      <td>0.651087</td>\n",
       "      <td>3.488058</td>\n",
       "      <td>9.247794</td>\n",
       "      <td>0.002225</td>\n",
       "      <td>-31.262632</td>\n",
       "      <td>0.046313</td>\n",
       "      <td>-0.027200</td>\n",
       "    </tr>\n",
       "    <tr>\n",
       "      <th>annual_inc</th>\n",
       "      <td>5.565984e+06</td>\n",
       "      <td>-20771.742531</td>\n",
       "      <td>18311.742470</td>\n",
       "      <td>1.052632e+10</td>\n",
       "      <td>-132882.431950</td>\n",
       "      <td>176598.637553</td>\n",
       "      <td>134444.596716</td>\n",
       "      <td>95.102889</td>\n",
       "      <td>110999.449816</td>\n",
       "      <td>1903.057777</td>\n",
       "      <td>2106.743021</td>\n",
       "    </tr>\n",
       "    <tr>\n",
       "      <th>dti</th>\n",
       "      <td>8.264000e+00</td>\n",
       "      <td>29.124185</td>\n",
       "      <td>0.651087</td>\n",
       "      <td>-1.328824e+05</td>\n",
       "      <td>77.473893</td>\n",
       "      <td>-23.277273</td>\n",
       "      <td>1.465873</td>\n",
       "      <td>0.001178</td>\n",
       "      <td>-51.697793</td>\n",
       "      <td>-0.221456</td>\n",
       "      <td>0.032258</td>\n",
       "    </tr>\n",
       "    <tr>\n",
       "      <th>fico_score</th>\n",
       "      <td>4.949254e+02</td>\n",
       "      <td>-113.544807</td>\n",
       "      <td>3.488058</td>\n",
       "      <td>1.765986e+05</td>\n",
       "      <td>-23.277273</td>\n",
       "      <td>966.375484</td>\n",
       "      <td>35.264395</td>\n",
       "      <td>-0.116740</td>\n",
       "      <td>-434.336377</td>\n",
       "      <td>-5.053598</td>\n",
       "      <td>-3.435622</td>\n",
       "    </tr>\n",
       "    <tr>\n",
       "      <th>credit_length</th>\n",
       "      <td>4.084935e+02</td>\n",
       "      <td>-16.151167</td>\n",
       "      <td>9.247794</td>\n",
       "      <td>1.344446e+05</td>\n",
       "      <td>1.465873</td>\n",
       "      <td>35.264395</td>\n",
       "      <td>175.831643</td>\n",
       "      <td>0.033284</td>\n",
       "      <td>142.248126</td>\n",
       "      <td>1.133130</td>\n",
       "      <td>0.030334</td>\n",
       "    </tr>\n",
       "    <tr>\n",
       "      <th>acc_now_delinq</th>\n",
       "      <td>1.747843e-01</td>\n",
       "      <td>0.044524</td>\n",
       "      <td>0.002225</td>\n",
       "      <td>9.510289e+01</td>\n",
       "      <td>0.001178</td>\n",
       "      <td>-0.116740</td>\n",
       "      <td>0.033284</td>\n",
       "      <td>0.007972</td>\n",
       "      <td>15.024952</td>\n",
       "      <td>0.010889</td>\n",
       "      <td>-0.001010</td>\n",
       "    </tr>\n",
       "    <tr>\n",
       "      <th>delinq_amnt</th>\n",
       "      <td>-1.990295e+03</td>\n",
       "      <td>243.746638</td>\n",
       "      <td>-31.262632</td>\n",
       "      <td>1.109994e+05</td>\n",
       "      <td>-51.697793</td>\n",
       "      <td>-434.336377</td>\n",
       "      <td>142.248126</td>\n",
       "      <td>15.024952</td>\n",
       "      <td>725876.794809</td>\n",
       "      <td>21.253906</td>\n",
       "      <td>0.505811</td>\n",
       "    </tr>\n",
       "    <tr>\n",
       "      <th>delinq_2yrs</th>\n",
       "      <td>-9.158366e-01</td>\n",
       "      <td>0.435330</td>\n",
       "      <td>0.046313</td>\n",
       "      <td>1.903058e+03</td>\n",
       "      <td>-0.221456</td>\n",
       "      <td>-5.053598</td>\n",
       "      <td>1.133130</td>\n",
       "      <td>0.010889</td>\n",
       "      <td>21.253906</td>\n",
       "      <td>0.952534</td>\n",
       "      <td>0.033319</td>\n",
       "    </tr>\n",
       "    <tr>\n",
       "      <th>inq_last_6mths</th>\n",
       "      <td>4.295756e+00</td>\n",
       "      <td>2.140353</td>\n",
       "      <td>-0.027200</td>\n",
       "      <td>2.106743e+03</td>\n",
       "      <td>0.032258</td>\n",
       "      <td>-3.435622</td>\n",
       "      <td>0.030334</td>\n",
       "      <td>-0.001010</td>\n",
       "      <td>0.505811</td>\n",
       "      <td>0.033319</td>\n",
       "      <td>0.897027</td>\n",
       "    </tr>\n",
       "  </tbody>\n",
       "</table>\n",
       "</div>"
      ],
      "text/plain": [
       "                 installment  interest_rate    emp_length    annual_inc  \\\n",
       "installment     6.983194e+04    1027.851694     55.981033  5.565984e+06   \n",
       "interest_rate   1.027852e+03     288.528167      0.629658 -2.077174e+04   \n",
       "emp_length      5.598103e+01       0.629658     13.819096  1.831174e+04   \n",
       "annual_inc      5.565984e+06  -20771.742531  18311.742470  1.052632e+10   \n",
       "dti             8.264000e+00      29.124185      0.651087 -1.328824e+05   \n",
       "fico_score      4.949254e+02    -113.544807      3.488058  1.765986e+05   \n",
       "credit_length   4.084935e+02     -16.151167      9.247794  1.344446e+05   \n",
       "acc_now_delinq  1.747843e-01       0.044524      0.002225  9.510289e+01   \n",
       "delinq_amnt    -1.990295e+03     243.746638    -31.262632  1.109994e+05   \n",
       "delinq_2yrs    -9.158366e-01       0.435330      0.046313  1.903058e+03   \n",
       "inq_last_6mths  4.295756e+00       2.140353     -0.027200  2.106743e+03   \n",
       "\n",
       "                          dti     fico_score  credit_length  acc_now_delinq  \\\n",
       "installment          8.264000     494.925363     408.493494        0.174784   \n",
       "interest_rate       29.124185    -113.544807     -16.151167        0.044524   \n",
       "emp_length           0.651087       3.488058       9.247794        0.002225   \n",
       "annual_inc     -132882.431950  176598.637553  134444.596716       95.102889   \n",
       "dti                 77.473893     -23.277273       1.465873        0.001178   \n",
       "fico_score         -23.277273     966.375484      35.264395       -0.116740   \n",
       "credit_length        1.465873      35.264395     175.831643        0.033284   \n",
       "acc_now_delinq       0.001178      -0.116740       0.033284        0.007972   \n",
       "delinq_amnt        -51.697793    -434.336377     142.248126       15.024952   \n",
       "delinq_2yrs         -0.221456      -5.053598       1.133130        0.010889   \n",
       "inq_last_6mths       0.032258      -3.435622       0.030334       -0.001010   \n",
       "\n",
       "                  delinq_amnt  delinq_2yrs  inq_last_6mths  \n",
       "installment      -1990.295193    -0.915837        4.295756  \n",
       "interest_rate      243.746638     0.435330        2.140353  \n",
       "emp_length         -31.262632     0.046313       -0.027200  \n",
       "annual_inc      110999.449816  1903.057777     2106.743021  \n",
       "dti                -51.697793    -0.221456        0.032258  \n",
       "fico_score        -434.336377    -5.053598       -3.435622  \n",
       "credit_length      142.248126     1.133130        0.030334  \n",
       "acc_now_delinq      15.024952     0.010889       -0.001010  \n",
       "delinq_amnt     725876.794809    21.253906        0.505811  \n",
       "delinq_2yrs         21.253906     0.952534        0.033319  \n",
       "inq_last_6mths       0.505811     0.033319        0.897027  "
      ]
     },
     "metadata": {},
     "output_type": "display_data"
    }
   ],
   "source": [
    "#list of all numeric columns\n",
    "numeric_cols = ['installment','interest_rate','emp_length','annual_inc','dti','fico_score','credit_length','acc_now_delinq','delinq_amnt','delinq_2yrs','inq_last_6mths']\n",
    "#corvariance matrix of all numeric columns\n",
    "print('COVARIANCE MATRIX OF ALL NUMERIC COLUMNS')\n",
    "display(df[numeric_cols].cov())"
   ]
  },
  {
   "cell_type": "code",
   "execution_count": 17,
   "metadata": {},
   "outputs": [
    {
     "name": "stdout",
     "output_type": "stream",
     "text": [
      "\n",
      "Summary of installment\n"
     ]
    },
    {
     "data": {
      "text/plain": [
       "Ttest_indResult(statistic=-8.752947274540949, pvalue=2.2756554887415666e-18)"
      ]
     },
     "metadata": {},
     "output_type": "display_data"
    },
    {
     "data": {
      "text/html": [
       "<div>\n",
       "<style scoped>\n",
       "    .dataframe tbody tr th:only-of-type {\n",
       "        vertical-align: middle;\n",
       "    }\n",
       "\n",
       "    .dataframe tbody tr th {\n",
       "        vertical-align: top;\n",
       "    }\n",
       "\n",
       "    .dataframe thead th {\n",
       "        text-align: right;\n",
       "    }\n",
       "</style>\n",
       "<table border=\"1\" class=\"dataframe\">\n",
       "  <thead>\n",
       "    <tr style=\"text-align: right;\">\n",
       "      <th></th>\n",
       "      <th>count</th>\n",
       "      <th>mean</th>\n",
       "      <th>std</th>\n",
       "      <th>min</th>\n",
       "      <th>25%</th>\n",
       "      <th>50%</th>\n",
       "      <th>75%</th>\n",
       "      <th>max</th>\n",
       "    </tr>\n",
       "    <tr>\n",
       "      <th>loan_status</th>\n",
       "      <th></th>\n",
       "      <th></th>\n",
       "      <th></th>\n",
       "      <th></th>\n",
       "      <th></th>\n",
       "      <th></th>\n",
       "      <th></th>\n",
       "      <th></th>\n",
       "    </tr>\n",
       "  </thead>\n",
       "  <tbody>\n",
       "    <tr>\n",
       "      <th>Default</th>\n",
       "      <td>5621.0</td>\n",
       "      <td>480.670954</td>\n",
       "      <td>264.207735</td>\n",
       "      <td>31.88</td>\n",
       "      <td>287.06</td>\n",
       "      <td>416.84</td>\n",
       "      <td>631.23</td>\n",
       "      <td>1536.95</td>\n",
       "    </tr>\n",
       "    <tr>\n",
       "      <th>Fully Paid</th>\n",
       "      <td>10945.0</td>\n",
       "      <td>442.801715</td>\n",
       "      <td>263.372635</td>\n",
       "      <td>30.12</td>\n",
       "      <td>251.25</td>\n",
       "      <td>377.04</td>\n",
       "      <td>594.21</td>\n",
       "      <td>1464.42</td>\n",
       "    </tr>\n",
       "  </tbody>\n",
       "</table>\n",
       "</div>"
      ],
      "text/plain": [
       "               count        mean         std    min     25%     50%     75%  \\\n",
       "loan_status                                                                   \n",
       "Default       5621.0  480.670954  264.207735  31.88  287.06  416.84  631.23   \n",
       "Fully Paid   10945.0  442.801715  263.372635  30.12  251.25  377.04  594.21   \n",
       "\n",
       "                 max  \n",
       "loan_status           \n",
       "Default      1536.95  \n",
       "Fully Paid   1464.42  "
      ]
     },
     "metadata": {},
     "output_type": "display_data"
    },
    {
     "data": {
      "image/png": "[encoded data removed]",
      "text/plain": [
       "<Figure size 648x288 with 1 Axes>"
      ]
     },
     "metadata": {
      "needs_background": "light"
     },
     "output_type": "display_data"
    },
    {
     "name": "stdout",
     "output_type": "stream",
     "text": [
      "\n",
      "Summary of interest_rate\n"
     ]
    },
    {
     "data": {
      "text/plain": [
       "Ttest_indResult(statistic=-32.72373825284589, pvalue=1.1941423513993363e-227)"
      ]
     },
     "metadata": {},
     "output_type": "display_data"
    },
    {
     "data": {
      "text/html": [
       "<div>\n",
       "<style scoped>\n",
       "    .dataframe tbody tr th:only-of-type {\n",
       "        vertical-align: middle;\n",
       "    }\n",
       "\n",
       "    .dataframe tbody tr th {\n",
       "        vertical-align: top;\n",
       "    }\n",
       "\n",
       "    .dataframe thead th {\n",
       "        text-align: right;\n",
       "    }\n",
       "</style>\n",
       "<table border=\"1\" class=\"dataframe\">\n",
       "  <thead>\n",
       "    <tr style=\"text-align: right;\">\n",
       "      <th></th>\n",
       "      <th>count</th>\n",
       "      <th>mean</th>\n",
       "      <th>std</th>\n",
       "      <th>min</th>\n",
       "      <th>25%</th>\n",
       "      <th>50%</th>\n",
       "      <th>75%</th>\n",
       "      <th>max</th>\n",
       "    </tr>\n",
       "    <tr>\n",
       "      <th>loan_status</th>\n",
       "      <th></th>\n",
       "      <th></th>\n",
       "      <th></th>\n",
       "      <th></th>\n",
       "      <th></th>\n",
       "      <th></th>\n",
       "      <th></th>\n",
       "      <th></th>\n",
       "    </tr>\n",
       "  </thead>\n",
       "  <tbody>\n",
       "    <tr>\n",
       "      <th>Default</th>\n",
       "      <td>5621.0</td>\n",
       "      <td>35.137476</td>\n",
       "      <td>18.069450</td>\n",
       "      <td>8.41328</td>\n",
       "      <td>21.090500</td>\n",
       "      <td>29.376</td>\n",
       "      <td>49.083333</td>\n",
       "      <td>92.907692</td>\n",
       "    </tr>\n",
       "    <tr>\n",
       "      <th>Fully Paid</th>\n",
       "      <td>10945.0</td>\n",
       "      <td>26.297296</td>\n",
       "      <td>15.573487</td>\n",
       "      <td>8.41328</td>\n",
       "      <td>15.301829</td>\n",
       "      <td>21.345</td>\n",
       "      <td>31.146163</td>\n",
       "      <td>97.785714</td>\n",
       "    </tr>\n",
       "  </tbody>\n",
       "</table>\n",
       "</div>"
      ],
      "text/plain": [
       "               count       mean        std      min        25%     50%  \\\n",
       "loan_status                                                              \n",
       "Default       5621.0  35.137476  18.069450  8.41328  21.090500  29.376   \n",
       "Fully Paid   10945.0  26.297296  15.573487  8.41328  15.301829  21.345   \n",
       "\n",
       "                   75%        max  \n",
       "loan_status                        \n",
       "Default      49.083333  92.907692  \n",
       "Fully Paid   31.146163  97.785714  "
      ]
     },
     "metadata": {},
     "output_type": "display_data"
    },
    {
     "data": {
      "image/png": "[encoded data removed]",
      "text/plain": [
       "<Figure size 648x288 with 1 Axes>"
      ]
     },
     "metadata": {
      "needs_background": "light"
     },
     "output_type": "display_data"
    },
    {
     "name": "stdout",
     "output_type": "stream",
     "text": [
      "\n",
      "Summary of emp_length\n"
     ]
    },
    {
     "data": {
      "text/plain": [
       "Ttest_indResult(statistic=5.125245320353944, pvalue=3.004926167145822e-07)"
      ]
     },
     "metadata": {},
     "output_type": "display_data"
    },
    {
     "data": {
      "text/html": [
       "<div>\n",
       "<style scoped>\n",
       "    .dataframe tbody tr th:only-of-type {\n",
       "        vertical-align: middle;\n",
       "    }\n",
       "\n",
       "    .dataframe tbody tr th {\n",
       "        vertical-align: top;\n",
       "    }\n",
       "\n",
       "    .dataframe thead th {\n",
       "        text-align: right;\n",
       "    }\n",
       "</style>\n",
       "<table border=\"1\" class=\"dataframe\">\n",
       "  <thead>\n",
       "    <tr style=\"text-align: right;\">\n",
       "      <th></th>\n",
       "      <th>count</th>\n",
       "      <th>mean</th>\n",
       "      <th>std</th>\n",
       "      <th>min</th>\n",
       "      <th>25%</th>\n",
       "      <th>50%</th>\n",
       "      <th>75%</th>\n",
       "      <th>max</th>\n",
       "    </tr>\n",
       "    <tr>\n",
       "      <th>loan_status</th>\n",
       "      <th></th>\n",
       "      <th></th>\n",
       "      <th></th>\n",
       "      <th></th>\n",
       "      <th></th>\n",
       "      <th></th>\n",
       "      <th></th>\n",
       "      <th></th>\n",
       "    </tr>\n",
       "  </thead>\n",
       "  <tbody>\n",
       "    <tr>\n",
       "      <th>Default</th>\n",
       "      <td>5621.0</td>\n",
       "      <td>5.778687</td>\n",
       "      <td>3.735915</td>\n",
       "      <td>0.0</td>\n",
       "      <td>2.0</td>\n",
       "      <td>6.0</td>\n",
       "      <td>10.0</td>\n",
       "      <td>10.0</td>\n",
       "    </tr>\n",
       "    <tr>\n",
       "      <th>Fully Paid</th>\n",
       "      <td>10945.0</td>\n",
       "      <td>6.091092</td>\n",
       "      <td>3.703565</td>\n",
       "      <td>0.0</td>\n",
       "      <td>3.0</td>\n",
       "      <td>7.0</td>\n",
       "      <td>10.0</td>\n",
       "      <td>10.0</td>\n",
       "    </tr>\n",
       "  </tbody>\n",
       "</table>\n",
       "</div>"
      ],
      "text/plain": [
       "               count      mean       std  min  25%  50%   75%   max\n",
       "loan_status                                                        \n",
       "Default       5621.0  5.778687  3.735915  0.0  2.0  6.0  10.0  10.0\n",
       "Fully Paid   10945.0  6.091092  3.703565  0.0  3.0  7.0  10.0  10.0"
      ]
     },
     "metadata": {},
     "output_type": "display_data"
    },
    {
     "data": {
      "image/png": "[encoded data removed]",
      "text/plain": [
       "<Figure size 648x288 with 1 Axes>"
      ]
     },
     "metadata": {
      "needs_background": "light"
     },
     "output_type": "display_data"
    },
    {
     "name": "stdout",
     "output_type": "stream",
     "text": [
      "\n",
      "Summary of annual_inc\n"
     ]
    },
    {
     "data": {
      "text/plain": [
       "Ttest_indResult(statistic=2.67224058387983, pvalue=0.007542035244354381)"
      ]
     },
     "metadata": {},
     "output_type": "display_data"
    },
    {
     "data": {
      "text/html": [
       "<div>\n",
       "<style scoped>\n",
       "    .dataframe tbody tr th:only-of-type {\n",
       "        vertical-align: middle;\n",
       "    }\n",
       "\n",
       "    .dataframe tbody tr th {\n",
       "        vertical-align: top;\n",
       "    }\n",
       "\n",
       "    .dataframe thead th {\n",
       "        text-align: right;\n",
       "    }\n",
       "</style>\n",
       "<table border=\"1\" class=\"dataframe\">\n",
       "  <thead>\n",
       "    <tr style=\"text-align: right;\">\n",
       "      <th></th>\n",
       "      <th>count</th>\n",
       "      <th>mean</th>\n",
       "      <th>std</th>\n",
       "      <th>min</th>\n",
       "      <th>25%</th>\n",
       "      <th>50%</th>\n",
       "      <th>75%</th>\n",
       "      <th>max</th>\n",
       "    </tr>\n",
       "    <tr>\n",
       "      <th>loan_status</th>\n",
       "      <th></th>\n",
       "      <th></th>\n",
       "      <th></th>\n",
       "      <th></th>\n",
       "      <th></th>\n",
       "      <th></th>\n",
       "      <th></th>\n",
       "      <th></th>\n",
       "    </tr>\n",
       "  </thead>\n",
       "  <tbody>\n",
       "    <tr>\n",
       "      <th>Default</th>\n",
       "      <td>5621.0</td>\n",
       "      <td>76180.658426</td>\n",
       "      <td>130313.884892</td>\n",
       "      <td>10000.0</td>\n",
       "      <td>45000.0</td>\n",
       "      <td>63000.0</td>\n",
       "      <td>88000.0</td>\n",
       "      <td>8706582.0</td>\n",
       "    </tr>\n",
       "    <tr>\n",
       "      <th>Fully Paid</th>\n",
       "      <td>10945.0</td>\n",
       "      <td>80678.742156</td>\n",
       "      <td>84884.774876</td>\n",
       "      <td>8160.0</td>\n",
       "      <td>50000.0</td>\n",
       "      <td>69100.0</td>\n",
       "      <td>96000.0</td>\n",
       "      <td>7000000.0</td>\n",
       "    </tr>\n",
       "  </tbody>\n",
       "</table>\n",
       "</div>"
      ],
      "text/plain": [
       "               count          mean            std      min      25%      50%  \\\n",
       "loan_status                                                                    \n",
       "Default       5621.0  76180.658426  130313.884892  10000.0  45000.0  63000.0   \n",
       "Fully Paid   10945.0  80678.742156   84884.774876   8160.0  50000.0  69100.0   \n",
       "\n",
       "                 75%        max  \n",
       "loan_status                      \n",
       "Default      88000.0  8706582.0  \n",
       "Fully Paid   96000.0  7000000.0  "
      ]
     },
     "metadata": {},
     "output_type": "display_data"
    },
    {
     "data": {
      "image/png": "[encoded data removed]",
      "text/plain": [
       "<Figure size 648x288 with 1 Axes>"
      ]
     },
     "metadata": {
      "needs_background": "light"
     },
     "output_type": "display_data"
    },
    {
     "name": "stdout",
     "output_type": "stream",
     "text": [
      "\n",
      "Summary of dti\n"
     ]
    },
    {
     "data": {
      "text/plain": [
       "Ttest_indResult(statistic=-19.248617315387193, pvalue=1.1291045526087853e-81)"
      ]
     },
     "metadata": {},
     "output_type": "display_data"
    },
    {
     "data": {
      "text/html": [
       "<div>\n",
       "<style scoped>\n",
       "    .dataframe tbody tr th:only-of-type {\n",
       "        vertical-align: middle;\n",
       "    }\n",
       "\n",
       "    .dataframe tbody tr th {\n",
       "        vertical-align: top;\n",
       "    }\n",
       "\n",
       "    .dataframe thead th {\n",
       "        text-align: right;\n",
       "    }\n",
       "</style>\n",
       "<table border=\"1\" class=\"dataframe\">\n",
       "  <thead>\n",
       "    <tr style=\"text-align: right;\">\n",
       "      <th></th>\n",
       "      <th>count</th>\n",
       "      <th>mean</th>\n",
       "      <th>std</th>\n",
       "      <th>min</th>\n",
       "      <th>25%</th>\n",
       "      <th>50%</th>\n",
       "      <th>75%</th>\n",
       "      <th>max</th>\n",
       "    </tr>\n",
       "    <tr>\n",
       "      <th>loan_status</th>\n",
       "      <th></th>\n",
       "      <th></th>\n",
       "      <th></th>\n",
       "      <th></th>\n",
       "      <th></th>\n",
       "      <th></th>\n",
       "      <th></th>\n",
       "      <th></th>\n",
       "    </tr>\n",
       "  </thead>\n",
       "  <tbody>\n",
       "    <tr>\n",
       "      <th>Default</th>\n",
       "      <td>5621.0</td>\n",
       "      <td>20.761672</td>\n",
       "      <td>8.985511</td>\n",
       "      <td>0.0</td>\n",
       "      <td>14.06</td>\n",
       "      <td>20.59</td>\n",
       "      <td>27.41</td>\n",
       "      <td>63.98</td>\n",
       "    </tr>\n",
       "    <tr>\n",
       "      <th>Fully Paid</th>\n",
       "      <td>10945.0</td>\n",
       "      <td>18.012001</td>\n",
       "      <td>8.557944</td>\n",
       "      <td>0.0</td>\n",
       "      <td>11.56</td>\n",
       "      <td>17.43</td>\n",
       "      <td>23.86</td>\n",
       "      <td>51.73</td>\n",
       "    </tr>\n",
       "  </tbody>\n",
       "</table>\n",
       "</div>"
      ],
      "text/plain": [
       "               count       mean       std  min    25%    50%    75%    max\n",
       "loan_status                                                               \n",
       "Default       5621.0  20.761672  8.985511  0.0  14.06  20.59  27.41  63.98\n",
       "Fully Paid   10945.0  18.012001  8.557944  0.0  11.56  17.43  23.86  51.73"
      ]
     },
     "metadata": {},
     "output_type": "display_data"
    },
    {
     "data": {
      "image/png": "[encoded data removed]",
      "text/plain": [
       "<Figure size 648x288 with 1 Axes>"
      ]
     },
     "metadata": {
      "needs_background": "light"
     },
     "output_type": "display_data"
    },
    {
     "name": "stdout",
     "output_type": "stream",
     "text": [
      "\n",
      "Summary of fico_score\n"
     ]
    },
    {
     "data": {
      "text/plain": [
       "Ttest_indResult(statistic=24.54273662394429, pvalue=1.1050483167030506e-130)"
      ]
     },
     "metadata": {},
     "output_type": "display_data"
    },
    {
     "data": {
      "text/html": [
       "<div>\n",
       "<style scoped>\n",
       "    .dataframe tbody tr th:only-of-type {\n",
       "        vertical-align: middle;\n",
       "    }\n",
       "\n",
       "    .dataframe tbody tr th {\n",
       "        vertical-align: top;\n",
       "    }\n",
       "\n",
       "    .dataframe thead th {\n",
       "        text-align: right;\n",
       "    }\n",
       "</style>\n",
       "<table border=\"1\" class=\"dataframe\">\n",
       "  <thead>\n",
       "    <tr style=\"text-align: right;\">\n",
       "      <th></th>\n",
       "      <th>count</th>\n",
       "      <th>mean</th>\n",
       "      <th>std</th>\n",
       "      <th>min</th>\n",
       "      <th>25%</th>\n",
       "      <th>50%</th>\n",
       "      <th>75%</th>\n",
       "      <th>max</th>\n",
       "    </tr>\n",
       "    <tr>\n",
       "      <th>loan_status</th>\n",
       "      <th></th>\n",
       "      <th></th>\n",
       "      <th></th>\n",
       "      <th></th>\n",
       "      <th></th>\n",
       "      <th></th>\n",
       "      <th></th>\n",
       "      <th></th>\n",
       "    </tr>\n",
       "  </thead>\n",
       "  <tbody>\n",
       "    <tr>\n",
       "      <th>Default</th>\n",
       "      <td>5621.0</td>\n",
       "      <td>687.185020</td>\n",
       "      <td>23.944284</td>\n",
       "      <td>662.0</td>\n",
       "      <td>667.0</td>\n",
       "      <td>682.0</td>\n",
       "      <td>697.0</td>\n",
       "      <td>842.0</td>\n",
       "    </tr>\n",
       "    <tr>\n",
       "      <th>Fully Paid</th>\n",
       "      <td>10945.0</td>\n",
       "      <td>699.483371</td>\n",
       "      <td>33.421212</td>\n",
       "      <td>662.0</td>\n",
       "      <td>672.0</td>\n",
       "      <td>692.0</td>\n",
       "      <td>717.0</td>\n",
       "      <td>847.5</td>\n",
       "    </tr>\n",
       "  </tbody>\n",
       "</table>\n",
       "</div>"
      ],
      "text/plain": [
       "               count        mean        std    min    25%    50%    75%    max\n",
       "loan_status                                                                   \n",
       "Default       5621.0  687.185020  23.944284  662.0  667.0  682.0  697.0  842.0\n",
       "Fully Paid   10945.0  699.483371  33.421212  662.0  672.0  692.0  717.0  847.5"
      ]
     },
     "metadata": {},
     "output_type": "display_data"
    },
    {
     "data": {
      "image/png": "[encoded data removed]",
      "text/plain": [
       "<Figure size 648x288 with 1 Axes>"
      ]
     },
     "metadata": {
      "needs_background": "light"
     },
     "output_type": "display_data"
    },
    {
     "name": "stdout",
     "output_type": "stream",
     "text": [
      "\n",
      "Summary of credit_length\n"
     ]
    },
    {
     "data": {
      "text/plain": [
       "Ttest_indResult(statistic=8.118347803916427, pvalue=5.055017963129322e-16)"
      ]
     },
     "metadata": {},
     "output_type": "display_data"
    },
    {
     "data": {
      "text/html": [
       "<div>\n",
       "<style scoped>\n",
       "    .dataframe tbody tr th:only-of-type {\n",
       "        vertical-align: middle;\n",
       "    }\n",
       "\n",
       "    .dataframe tbody tr th {\n",
       "        vertical-align: top;\n",
       "    }\n",
       "\n",
       "    .dataframe thead th {\n",
       "        text-align: right;\n",
       "    }\n",
       "</style>\n",
       "<table border=\"1\" class=\"dataframe\">\n",
       "  <thead>\n",
       "    <tr style=\"text-align: right;\">\n",
       "      <th></th>\n",
       "      <th>count</th>\n",
       "      <th>mean</th>\n",
       "      <th>std</th>\n",
       "      <th>min</th>\n",
       "      <th>25%</th>\n",
       "      <th>50%</th>\n",
       "      <th>75%</th>\n",
       "      <th>max</th>\n",
       "    </tr>\n",
       "    <tr>\n",
       "      <th>loan_status</th>\n",
       "      <th></th>\n",
       "      <th></th>\n",
       "      <th></th>\n",
       "      <th></th>\n",
       "      <th></th>\n",
       "      <th></th>\n",
       "      <th></th>\n",
       "      <th></th>\n",
       "    </tr>\n",
       "  </thead>\n",
       "  <tbody>\n",
       "    <tr>\n",
       "      <th>Default</th>\n",
       "      <td>5621.0</td>\n",
       "      <td>11.368440</td>\n",
       "      <td>13.087986</td>\n",
       "      <td>0.0</td>\n",
       "      <td>0.0</td>\n",
       "      <td>0.0</td>\n",
       "      <td>23.0</td>\n",
       "      <td>59.0</td>\n",
       "    </tr>\n",
       "    <tr>\n",
       "      <th>Fully Paid</th>\n",
       "      <td>10945.0</td>\n",
       "      <td>13.131476</td>\n",
       "      <td>13.308735</td>\n",
       "      <td>0.0</td>\n",
       "      <td>0.0</td>\n",
       "      <td>19.0</td>\n",
       "      <td>24.0</td>\n",
       "      <td>56.0</td>\n",
       "    </tr>\n",
       "  </tbody>\n",
       "</table>\n",
       "</div>"
      ],
      "text/plain": [
       "               count       mean        std  min  25%   50%   75%   max\n",
       "loan_status                                                           \n",
       "Default       5621.0  11.368440  13.087986  0.0  0.0   0.0  23.0  59.0\n",
       "Fully Paid   10945.0  13.131476  13.308735  0.0  0.0  19.0  24.0  56.0"
      ]
     },
     "metadata": {},
     "output_type": "display_data"
    },
    {
     "data": {
      "image/png": "[encoded data removed]",
      "text/plain": [
       "<Figure size 648x288 with 1 Axes>"
      ]
     },
     "metadata": {
      "needs_background": "light"
     },
     "output_type": "display_data"
    },
    {
     "name": "stdout",
     "output_type": "stream",
     "text": [
      "\n",
      "Summary of acc_now_delinq\n"
     ]
    },
    {
     "data": {
      "text/plain": [
       "Ttest_indResult(statistic=-2.6812442465151434, pvalue=0.007342161781318559)"
      ]
     },
     "metadata": {},
     "output_type": "display_data"
    },
    {
     "data": {
      "text/html": [
       "<div>\n",
       "<style scoped>\n",
       "    .dataframe tbody tr th:only-of-type {\n",
       "        vertical-align: middle;\n",
       "    }\n",
       "\n",
       "    .dataframe tbody tr th {\n",
       "        vertical-align: top;\n",
       "    }\n",
       "\n",
       "    .dataframe thead th {\n",
       "        text-align: right;\n",
       "    }\n",
       "</style>\n",
       "<table border=\"1\" class=\"dataframe\">\n",
       "  <thead>\n",
       "    <tr style=\"text-align: right;\">\n",
       "      <th></th>\n",
       "      <th>count</th>\n",
       "      <th>mean</th>\n",
       "      <th>std</th>\n",
       "      <th>min</th>\n",
       "      <th>25%</th>\n",
       "      <th>50%</th>\n",
       "      <th>75%</th>\n",
       "      <th>max</th>\n",
       "    </tr>\n",
       "    <tr>\n",
       "      <th>loan_status</th>\n",
       "      <th></th>\n",
       "      <th></th>\n",
       "      <th></th>\n",
       "      <th></th>\n",
       "      <th></th>\n",
       "      <th></th>\n",
       "      <th></th>\n",
       "      <th></th>\n",
       "    </tr>\n",
       "  </thead>\n",
       "  <tbody>\n",
       "    <tr>\n",
       "      <th>Default</th>\n",
       "      <td>5621.0</td>\n",
       "      <td>0.010141</td>\n",
       "      <td>0.101958</td>\n",
       "      <td>0.0</td>\n",
       "      <td>0.0</td>\n",
       "      <td>0.0</td>\n",
       "      <td>0.0</td>\n",
       "      <td>2.0</td>\n",
       "    </tr>\n",
       "    <tr>\n",
       "      <th>Fully Paid</th>\n",
       "      <td>10945.0</td>\n",
       "      <td>0.006213</td>\n",
       "      <td>0.081994</td>\n",
       "      <td>0.0</td>\n",
       "      <td>0.0</td>\n",
       "      <td>0.0</td>\n",
       "      <td>0.0</td>\n",
       "      <td>2.0</td>\n",
       "    </tr>\n",
       "  </tbody>\n",
       "</table>\n",
       "</div>"
      ],
      "text/plain": [
       "               count      mean       std  min  25%  50%  75%  max\n",
       "loan_status                                                      \n",
       "Default       5621.0  0.010141  0.101958  0.0  0.0  0.0  0.0  2.0\n",
       "Fully Paid   10945.0  0.006213  0.081994  0.0  0.0  0.0  0.0  2.0"
      ]
     },
     "metadata": {},
     "output_type": "display_data"
    },
    {
     "data": {
      "image/png": "[encoded data removed]",
      "text/plain": [
       "<Figure size 648x288 with 1 Axes>"
      ]
     },
     "metadata": {
      "needs_background": "light"
     },
     "output_type": "display_data"
    },
    {
     "name": "stdout",
     "output_type": "stream",
     "text": [
      "\n",
      "Summary of delinq_amnt\n"
     ]
    },
    {
     "data": {
      "text/plain": [
       "Ttest_indResult(statistic=-2.0416546441346455, pvalue=0.041201610288301015)"
      ]
     },
     "metadata": {},
     "output_type": "display_data"
    },
    {
     "data": {
      "text/html": [
       "<div>\n",
       "<style scoped>\n",
       "    .dataframe tbody tr th:only-of-type {\n",
       "        vertical-align: middle;\n",
       "    }\n",
       "\n",
       "    .dataframe tbody tr th {\n",
       "        vertical-align: top;\n",
       "    }\n",
       "\n",
       "    .dataframe thead th {\n",
       "        text-align: right;\n",
       "    }\n",
       "</style>\n",
       "<table border=\"1\" class=\"dataframe\">\n",
       "  <thead>\n",
       "    <tr style=\"text-align: right;\">\n",
       "      <th></th>\n",
       "      <th>count</th>\n",
       "      <th>mean</th>\n",
       "      <th>std</th>\n",
       "      <th>min</th>\n",
       "      <th>25%</th>\n",
       "      <th>50%</th>\n",
       "      <th>75%</th>\n",
       "      <th>max</th>\n",
       "    </tr>\n",
       "    <tr>\n",
       "      <th>loan_status</th>\n",
       "      <th></th>\n",
       "      <th></th>\n",
       "      <th></th>\n",
       "      <th></th>\n",
       "      <th></th>\n",
       "      <th></th>\n",
       "      <th></th>\n",
       "      <th></th>\n",
       "    </tr>\n",
       "  </thead>\n",
       "  <tbody>\n",
       "    <tr>\n",
       "      <th>Default</th>\n",
       "      <td>5621.0</td>\n",
       "      <td>37.133962</td>\n",
       "      <td>1274.844148</td>\n",
       "      <td>0.0</td>\n",
       "      <td>0.0</td>\n",
       "      <td>0.0</td>\n",
       "      <td>0.0</td>\n",
       "      <td>65000.0</td>\n",
       "    </tr>\n",
       "    <tr>\n",
       "      <th>Fully Paid</th>\n",
       "      <td>10945.0</td>\n",
       "      <td>8.593148</td>\n",
       "      <td>513.642896</td>\n",
       "      <td>0.0</td>\n",
       "      <td>0.0</td>\n",
       "      <td>0.0</td>\n",
       "      <td>0.0</td>\n",
       "      <td>42926.0</td>\n",
       "    </tr>\n",
       "  </tbody>\n",
       "</table>\n",
       "</div>"
      ],
      "text/plain": [
       "               count       mean          std  min  25%  50%  75%      max\n",
       "loan_status                                                              \n",
       "Default       5621.0  37.133962  1274.844148  0.0  0.0  0.0  0.0  65000.0\n",
       "Fully Paid   10945.0   8.593148   513.642896  0.0  0.0  0.0  0.0  42926.0"
      ]
     },
     "metadata": {},
     "output_type": "display_data"
    },
    {
     "data": {
      "image/png": "[encoded data removed]",
      "text/plain": [
       "<Figure size 648x288 with 1 Axes>"
      ]
     },
     "metadata": {
      "needs_background": "light"
     },
     "output_type": "display_data"
    },
    {
     "name": "stdout",
     "output_type": "stream",
     "text": [
      "\n",
      "Summary of delinq_2yrs\n"
     ]
    },
    {
     "data": {
      "text/plain": [
       "Ttest_indResult(statistic=-3.789976959376294, pvalue=0.0001511949512675743)"
      ]
     },
     "metadata": {},
     "output_type": "display_data"
    },
    {
     "data": {
      "text/html": [
       "<div>\n",
       "<style scoped>\n",
       "    .dataframe tbody tr th:only-of-type {\n",
       "        vertical-align: middle;\n",
       "    }\n",
       "\n",
       "    .dataframe tbody tr th {\n",
       "        vertical-align: top;\n",
       "    }\n",
       "\n",
       "    .dataframe thead th {\n",
       "        text-align: right;\n",
       "    }\n",
       "</style>\n",
       "<table border=\"1\" class=\"dataframe\">\n",
       "  <thead>\n",
       "    <tr style=\"text-align: right;\">\n",
       "      <th></th>\n",
       "      <th>count</th>\n",
       "      <th>mean</th>\n",
       "      <th>std</th>\n",
       "      <th>min</th>\n",
       "      <th>25%</th>\n",
       "      <th>50%</th>\n",
       "      <th>75%</th>\n",
       "      <th>max</th>\n",
       "    </tr>\n",
       "    <tr>\n",
       "      <th>loan_status</th>\n",
       "      <th></th>\n",
       "      <th></th>\n",
       "      <th></th>\n",
       "      <th></th>\n",
       "      <th></th>\n",
       "      <th></th>\n",
       "      <th></th>\n",
       "      <th></th>\n",
       "    </tr>\n",
       "  </thead>\n",
       "  <tbody>\n",
       "    <tr>\n",
       "      <th>Default</th>\n",
       "      <td>5621.0</td>\n",
       "      <td>0.397082</td>\n",
       "      <td>0.972551</td>\n",
       "      <td>0.0</td>\n",
       "      <td>0.0</td>\n",
       "      <td>0.0</td>\n",
       "      <td>0.0</td>\n",
       "      <td>14.0</td>\n",
       "    </tr>\n",
       "    <tr>\n",
       "      <th>Fully Paid</th>\n",
       "      <td>10945.0</td>\n",
       "      <td>0.336409</td>\n",
       "      <td>0.977139</td>\n",
       "      <td>0.0</td>\n",
       "      <td>0.0</td>\n",
       "      <td>0.0</td>\n",
       "      <td>0.0</td>\n",
       "      <td>39.0</td>\n",
       "    </tr>\n",
       "  </tbody>\n",
       "</table>\n",
       "</div>"
      ],
      "text/plain": [
       "               count      mean       std  min  25%  50%  75%   max\n",
       "loan_status                                                       \n",
       "Default       5621.0  0.397082  0.972551  0.0  0.0  0.0  0.0  14.0\n",
       "Fully Paid   10945.0  0.336409  0.977139  0.0  0.0  0.0  0.0  39.0"
      ]
     },
     "metadata": {},
     "output_type": "display_data"
    },
    {
     "data": {
      "image/png": "[encoded data removed]",
      "text/plain": [
       "<Figure size 648x288 with 1 Axes>"
      ]
     },
     "metadata": {
      "needs_background": "light"
     },
     "output_type": "display_data"
    },
    {
     "name": "stdout",
     "output_type": "stream",
     "text": [
      "\n",
      "Summary of inq_last_6mths\n"
     ]
    },
    {
     "data": {
      "text/plain": [
       "Ttest_indResult(statistic=-8.273457297816396, pvalue=1.3992416437302393e-16)"
      ]
     },
     "metadata": {},
     "output_type": "display_data"
    },
    {
     "data": {
      "text/html": [
       "<div>\n",
       "<style scoped>\n",
       "    .dataframe tbody tr th:only-of-type {\n",
       "        vertical-align: middle;\n",
       "    }\n",
       "\n",
       "    .dataframe tbody tr th {\n",
       "        vertical-align: top;\n",
       "    }\n",
       "\n",
       "    .dataframe thead th {\n",
       "        text-align: right;\n",
       "    }\n",
       "</style>\n",
       "<table border=\"1\" class=\"dataframe\">\n",
       "  <thead>\n",
       "    <tr style=\"text-align: right;\">\n",
       "      <th></th>\n",
       "      <th>count</th>\n",
       "      <th>mean</th>\n",
       "      <th>std</th>\n",
       "      <th>min</th>\n",
       "      <th>25%</th>\n",
       "      <th>50%</th>\n",
       "      <th>75%</th>\n",
       "      <th>max</th>\n",
       "    </tr>\n",
       "    <tr>\n",
       "      <th>loan_status</th>\n",
       "      <th></th>\n",
       "      <th></th>\n",
       "      <th></th>\n",
       "      <th></th>\n",
       "      <th></th>\n",
       "      <th></th>\n",
       "      <th></th>\n",
       "      <th></th>\n",
       "    </tr>\n",
       "  </thead>\n",
       "  <tbody>\n",
       "    <tr>\n",
       "      <th>Default</th>\n",
       "      <td>5621.0</td>\n",
       "      <td>0.762676</td>\n",
       "      <td>0.992266</td>\n",
       "      <td>0.0</td>\n",
       "      <td>0.0</td>\n",
       "      <td>0.0</td>\n",
       "      <td>1.0</td>\n",
       "      <td>5.0</td>\n",
       "    </tr>\n",
       "    <tr>\n",
       "      <th>Fully Paid</th>\n",
       "      <td>10945.0</td>\n",
       "      <td>0.634354</td>\n",
       "      <td>0.920083</td>\n",
       "      <td>0.0</td>\n",
       "      <td>0.0</td>\n",
       "      <td>0.0</td>\n",
       "      <td>1.0</td>\n",
       "      <td>6.0</td>\n",
       "    </tr>\n",
       "  </tbody>\n",
       "</table>\n",
       "</div>"
      ],
      "text/plain": [
       "               count      mean       std  min  25%  50%  75%  max\n",
       "loan_status                                                      \n",
       "Default       5621.0  0.762676  0.992266  0.0  0.0  0.0  1.0  5.0\n",
       "Fully Paid   10945.0  0.634354  0.920083  0.0  0.0  0.0  1.0  6.0"
      ]
     },
     "metadata": {},
     "output_type": "display_data"
    },
    {
     "data": {
      "image/png": "[encoded data removed]",
      "text/plain": [
       "<Figure size 648x288 with 1 Axes>"
      ]
     },
     "metadata": {
      "needs_background": "light"
     },
     "output_type": "display_data"
    }
   ],
   "source": [
    "#function to calculate t-test\n",
    "def run_ttest(feature, col = 'loan_status', value1 = 'Fully Paid', value2 = 'Default'):\n",
    "    '''Calculate t-statistics and p-value of t-test'''\n",
    "    group1 = df.loc[df[col]== value1, feature]\n",
    "    group2 = df.loc[df[col] == value2, feature]\n",
    "    return ttest_ind(group1,group2)\n",
    "#boxplot for each feature\n",
    "def boxplot(feature, col= 'loan_status'):\n",
    "    plt.subplots(figsize = (9,4))\n",
    "    sns.boxplot(y=col, x = feature, data=df)\n",
    "    plt.show()\n",
    "#summary of all numeric features\n",
    "for col in numeric_cols:\n",
    "    print('\\nSummary of '+ col)\n",
    "    display(run_ttest(col))\n",
    "    display(df.groupby('loan_status')[col].describe())\n",
    "    boxplot(col)"
   ]
  },
  {
   "cell_type": "markdown",
   "metadata": {},
   "source": [
    "### B. Binary value columns\n",
    "For binary features, the summary describes the two propotion of Yes (1) or No (0) in each feature for the default and fully paid group. \n",
    "* Z-test is used test the null hypothesis that the two proportion are the same.\n",
    "* Z-test shows that for both binary features, the p-values are smaller than 0.05, indicating that these features are also important for our predictive model.\n",
    "* List of features: 'salary_verified', 'delinq_before'"
   ]
  },
  {
   "cell_type": "code",
   "execution_count": 18,
   "metadata": {},
   "outputs": [],
   "source": [
    "#function to calculate z-test\n",
    "def run_proportion_z_test(feature, col = 'loan_status', value1 = 'Fully Paid', value2 = 'Default'):\n",
    "    '''Calculate z-statistics and p-value of z-test. Feature is the feature that z-test will be performed on'''\n",
    "    group1 = df.loc[df[col]== value1, feature]\n",
    "    group2 = df.loc[df[col] == value2, feature]\n",
    "    n1 = len(group1)\n",
    "    p1 = group1.sum()\n",
    "    n2 = len(group2)\n",
    "    p2 = group2.sum()\n",
    "    z_score, p_value = proportions_ztest([p1, p2], [n1, n2])\n",
    "    return('z-score = {}; p-value = {}'.format(z_score, p_value))"
   ]
  },
  {
   "cell_type": "code",
   "execution_count": 19,
   "metadata": {},
   "outputs": [
    {
     "name": "stdout",
     "output_type": "stream",
     "text": [
      "\n",
      "Summary of salary_verified (Yes:1, No: 0)\n"
     ]
    },
    {
     "data": {
      "text/plain": [
       "'z-score = -11.624872890771325; p-value = 3.080515440030663e-31'"
      ]
     },
     "metadata": {},
     "output_type": "display_data"
    },
    {
     "data": {
      "text/plain": [
       "loan_status  salary_verified\n",
       "Default      1.0                0.788650\n",
       "             0.0                0.211350\n",
       "Fully Paid   1.0                0.704249\n",
       "             0.0                0.295751\n",
       "Name: salary_verified, dtype: float64"
      ]
     },
     "metadata": {},
     "output_type": "display_data"
    },
    {
     "name": "stdout",
     "output_type": "stream",
     "text": [
      "\n",
      "Summary of delinq_before (Yes:1, No: 0)\n"
     ]
    },
    {
     "data": {
      "text/plain": [
       "'z-score = -3.6793851367178614; p-value = 0.00023379696248935429'"
      ]
     },
     "metadata": {},
     "output_type": "display_data"
    },
    {
     "data": {
      "text/plain": [
       "loan_status  delinq_before\n",
       "Default      1.0              0.549368\n",
       "             0.0              0.450632\n",
       "Fully Paid   1.0              0.519233\n",
       "             0.0              0.480767\n",
       "Name: delinq_before, dtype: float64"
      ]
     },
     "metadata": {},
     "output_type": "display_data"
    }
   ],
   "source": [
    "#summary of binary feature\n",
    "binary_cols = ['salary_verified', 'delinq_before']\n",
    "for col in binary_cols:\n",
    "    print('\\nSummary of '+ col + ' (Yes:1, No: 0)')\n",
    "    display(run_proportion_z_test(col))\n",
    "    display(df.groupby('loan_status')[col].value_counts(normalize = True)) "
   ]
  },
  {
   "cell_type": "markdown",
   "metadata": {},
   "source": [
    "### C. Categorical features\n",
    "For categorical features, the summary shows distribution of each category in the feature based on default or fully paid group\n",
    "* chi square test is used to test either there is significant relationship between each categorical feature and the dependent variable\n",
    "* p value (<0.05 95% CI) of chi square test indicated that there are significant relationship between the categorical feature and the dependent variable.\n",
    "* These categorical variables will be used in our model. \n",
    "* List of features: 'purpose', 'home_ownership'"
   ]
  },
  {
   "cell_type": "code",
   "execution_count": 20,
   "metadata": {},
   "outputs": [],
   "source": [
    "def run_chi2_test(feature, n, col = 'loan_status', value1 = 'Fully Paid', value2 = 'Default'):\n",
    "    '''Calculate chi2 statistics and p-value. Feature is the feature that z-test will be performed on, n is number of categories'''\n",
    "    group1 = df.loc[df[col] == value1,feature].value_counts().tolist()[:n] #select only the first 4 categories\n",
    "    group2 = df.loc[df[col] == value2,feature].value_counts().tolist()[:n] #select only the first 4 categories\n",
    "    chi2, p, dof, expected = chi2_contingency([group1, group2])\n",
    "    print(\"chi-square test statistic:\", chi2)\n",
    "    print(\"p-value\", p, '\\n')"
   ]
  },
  {
   "cell_type": "code",
   "execution_count": 21,
   "metadata": {},
   "outputs": [
    {
     "name": "stdout",
     "output_type": "stream",
     "text": [
      "\n",
      "Summary of purpose\n",
      "chi-square test statistic: 26.37854404975476\n",
      "p-value 0.005698356658282462 \n",
      "\n",
      "None\n",
      "loan_status  purpose           \n",
      "Default      debt_consolidation    0.636008\n",
      "             credit_card           0.179150\n",
      "             other                 0.057641\n",
      "             home_improvement      0.052126\n",
      "             major_purchase        0.020637\n",
      "             small_business        0.014766\n",
      "             medical               0.010852\n",
      "             car                   0.007472\n",
      "             moving                0.007116\n",
      "             house                 0.006405\n",
      "             vacation              0.006405\n",
      "             renewable_energy      0.001423\n",
      "Fully Paid   debt_consolidation    0.606122\n",
      "             credit_card           0.195249\n",
      "             home_improvement      0.066514\n",
      "             other                 0.056921\n",
      "             major_purchase        0.024212\n",
      "             car                   0.010598\n",
      "             medical               0.009868\n",
      "             moving                0.007949\n",
      "             small_business        0.007583\n",
      "             house                 0.007218\n",
      "             vacation              0.006852\n",
      "             renewable_energy      0.000822\n",
      "             wedding               0.000091\n",
      "Name: purpose, dtype: float64\n",
      "\n",
      "Summary of home_ownership\n",
      "chi-square test statistic: 96.61391242450222\n",
      "p-value 1.048468722939828e-21 \n",
      "\n",
      "None\n",
      "loan_status  home_ownership\n",
      "Default      RENT              0.454190\n",
      "             MORTGAGE          0.433197\n",
      "             OWN               0.112613\n",
      "Fully Paid   MORTGAGE          0.532298\n",
      "             RENT              0.360621\n",
      "             OWN               0.107081\n",
      "Name: home_ownership, dtype: float64\n"
     ]
    }
   ],
   "source": [
    "#inspect categorical column especially loan purpose and home_ownership\n",
    "categorical_cols = ['purpose', 'home_ownership']\n",
    "for category in categorical_cols:\n",
    "    print('\\nSummary of '+ category)\n",
    "    if category == 'purpose':\n",
    "        print(run_chi2_test (category, 12))\n",
    "    else:  \n",
    "        print(run_chi2_test (category, 4))\n",
    "    print(df.groupby('loan_status')[category].value_counts(normalize = True))"
   ]
  },
  {
   "cell_type": "markdown",
   "metadata": {},
   "source": [
    "## 4. FEATURE ENGINEERING AND MODEL READY DATA\n",
    "\n",
    "a. Because both 'purpose' and 'home_ownership' columns are non-ordinal categorical columns, One-Hot Encoding technique is used to transform data of these columns into numeric values. I use get dummies feature in pandas package and choose to drop the first column for each of these dummy datasets.\n",
    "\n",
    "b. The dependent variable (loan_status) is also converted into binary feature with 1 - indicating Default (positive instsance), and 0 - indicating Fully Paid (negative instance)\n",
    "\n",
    "* The final dataframe should contain 28 features (columns) and 16566 observations (rows) including 66% negative instances (fully-paid) and 34% positive instances (default). We will have to take into account of the class imbalance of the dataset in our model building. "
   ]
  },
  {
   "cell_type": "code",
   "execution_count": 22,
   "metadata": {},
   "outputs": [
    {
     "name": "stdout",
     "output_type": "stream",
     "text": [
      "FINAL DIMENSION OF DATAFRAME\n",
      "(16566, 28)\n",
      "INSPECT FINAL DATAFRAME\n",
      "<class 'pandas.core.frame.DataFrame'>\n",
      "Int64Index: 16566 entries, 54027458 to 73611158\n",
      "Data columns (total 28 columns):\n",
      "installment                   16566 non-null float64\n",
      "emp_length                    16566 non-null float64\n",
      "annual_inc                    16566 non-null float64\n",
      "dti                           16566 non-null float64\n",
      "acc_now_delinq                16566 non-null int64\n",
      "delinq_amnt                   16566 non-null int64\n",
      "delinq_2yrs                   16566 non-null int64\n",
      "inq_last_6mths                16566 non-null int64\n",
      "delinq_before                 16566 non-null float64\n",
      "salary_verified               16566 non-null float64\n",
      "interest_rate                 16566 non-null float64\n",
      "credit_length                 16566 non-null int64\n",
      "fico_score                    16566 non-null float64\n",
      "purpose_credit_card           16566 non-null uint8\n",
      "purpose_debt_consolidation    16566 non-null uint8\n",
      "purpose_home_improvement      16566 non-null uint8\n",
      "purpose_house                 16566 non-null uint8\n",
      "purpose_major_purchase        16566 non-null uint8\n",
      "purpose_medical               16566 non-null uint8\n",
      "purpose_moving                16566 non-null uint8\n",
      "purpose_other                 16566 non-null uint8\n",
      "purpose_renewable_energy      16566 non-null uint8\n",
      "purpose_small_business        16566 non-null uint8\n",
      "purpose_vacation              16566 non-null uint8\n",
      "purpose_wedding               16566 non-null uint8\n",
      "home_ownership_OWN            16566 non-null uint8\n",
      "home_ownership_RENT           16566 non-null uint8\n",
      "default                       16566 non-null float64\n",
      "dtypes: float64(9), int64(5), uint8(14)\n",
      "memory usage: 2.7 MB\n",
      "None\n",
      "Data distribution \n",
      "0.0    0.660691\n",
      "1.0    0.339309\n",
      "Name: default, dtype: float64\n"
     ]
    },
    {
     "data": {
      "text/html": [
       "<div>\n",
       "<style scoped>\n",
       "    .dataframe tbody tr th:only-of-type {\n",
       "        vertical-align: middle;\n",
       "    }\n",
       "\n",
       "    .dataframe tbody tr th {\n",
       "        vertical-align: top;\n",
       "    }\n",
       "\n",
       "    .dataframe thead th {\n",
       "        text-align: right;\n",
       "    }\n",
       "</style>\n",
       "<table border=\"1\" class=\"dataframe\">\n",
       "  <thead>\n",
       "    <tr style=\"text-align: right;\">\n",
       "      <th></th>\n",
       "      <th>installment</th>\n",
       "      <th>emp_length</th>\n",
       "      <th>annual_inc</th>\n",
       "      <th>dti</th>\n",
       "      <th>acc_now_delinq</th>\n",
       "      <th>delinq_amnt</th>\n",
       "      <th>delinq_2yrs</th>\n",
       "      <th>inq_last_6mths</th>\n",
       "      <th>delinq_before</th>\n",
       "      <th>salary_verified</th>\n",
       "      <th>...</th>\n",
       "      <th>purpose_medical</th>\n",
       "      <th>purpose_moving</th>\n",
       "      <th>purpose_other</th>\n",
       "      <th>purpose_renewable_energy</th>\n",
       "      <th>purpose_small_business</th>\n",
       "      <th>purpose_vacation</th>\n",
       "      <th>purpose_wedding</th>\n",
       "      <th>home_ownership_OWN</th>\n",
       "      <th>home_ownership_RENT</th>\n",
       "      <th>default</th>\n",
       "    </tr>\n",
       "    <tr>\n",
       "      <th>id</th>\n",
       "      <th></th>\n",
       "      <th></th>\n",
       "      <th></th>\n",
       "      <th></th>\n",
       "      <th></th>\n",
       "      <th></th>\n",
       "      <th></th>\n",
       "      <th></th>\n",
       "      <th></th>\n",
       "      <th></th>\n",
       "      <th></th>\n",
       "      <th></th>\n",
       "      <th></th>\n",
       "      <th></th>\n",
       "      <th></th>\n",
       "      <th></th>\n",
       "      <th></th>\n",
       "      <th></th>\n",
       "      <th></th>\n",
       "      <th></th>\n",
       "      <th></th>\n",
       "    </tr>\n",
       "  </thead>\n",
       "  <tbody>\n",
       "    <tr>\n",
       "      <th>54027458</th>\n",
       "      <td>439.88</td>\n",
       "      <td>5.0</td>\n",
       "      <td>50000.0</td>\n",
       "      <td>21.65</td>\n",
       "      <td>0</td>\n",
       "      <td>0</td>\n",
       "      <td>0</td>\n",
       "      <td>0</td>\n",
       "      <td>0.0</td>\n",
       "      <td>1.0</td>\n",
       "      <td>...</td>\n",
       "      <td>0</td>\n",
       "      <td>0</td>\n",
       "      <td>0</td>\n",
       "      <td>0</td>\n",
       "      <td>0</td>\n",
       "      <td>0</td>\n",
       "      <td>0</td>\n",
       "      <td>0</td>\n",
       "      <td>1</td>\n",
       "      <td>0.0</td>\n",
       "    </tr>\n",
       "    <tr>\n",
       "      <th>72594974</th>\n",
       "      <td>252.67</td>\n",
       "      <td>3.0</td>\n",
       "      <td>68000.0</td>\n",
       "      <td>29.09</td>\n",
       "      <td>0</td>\n",
       "      <td>0</td>\n",
       "      <td>0</td>\n",
       "      <td>2</td>\n",
       "      <td>0.0</td>\n",
       "      <td>0.0</td>\n",
       "      <td>...</td>\n",
       "      <td>0</td>\n",
       "      <td>0</td>\n",
       "      <td>0</td>\n",
       "      <td>0</td>\n",
       "      <td>0</td>\n",
       "      <td>0</td>\n",
       "      <td>0</td>\n",
       "      <td>0</td>\n",
       "      <td>0</td>\n",
       "      <td>0.0</td>\n",
       "    </tr>\n",
       "    <tr>\n",
       "      <th>71061534</th>\n",
       "      <td>870.44</td>\n",
       "      <td>5.0</td>\n",
       "      <td>55000.0</td>\n",
       "      <td>13.35</td>\n",
       "      <td>0</td>\n",
       "      <td>0</td>\n",
       "      <td>0</td>\n",
       "      <td>1</td>\n",
       "      <td>0.0</td>\n",
       "      <td>1.0</td>\n",
       "      <td>...</td>\n",
       "      <td>0</td>\n",
       "      <td>0</td>\n",
       "      <td>1</td>\n",
       "      <td>0</td>\n",
       "      <td>0</td>\n",
       "      <td>0</td>\n",
       "      <td>0</td>\n",
       "      <td>0</td>\n",
       "      <td>1</td>\n",
       "      <td>0.0</td>\n",
       "    </tr>\n",
       "    <tr>\n",
       "      <th>54474095</th>\n",
       "      <td>382.55</td>\n",
       "      <td>5.0</td>\n",
       "      <td>30000.0</td>\n",
       "      <td>19.04</td>\n",
       "      <td>0</td>\n",
       "      <td>0</td>\n",
       "      <td>0</td>\n",
       "      <td>0</td>\n",
       "      <td>0.0</td>\n",
       "      <td>0.0</td>\n",
       "      <td>...</td>\n",
       "      <td>0</td>\n",
       "      <td>0</td>\n",
       "      <td>0</td>\n",
       "      <td>0</td>\n",
       "      <td>0</td>\n",
       "      <td>0</td>\n",
       "      <td>0</td>\n",
       "      <td>0</td>\n",
       "      <td>1</td>\n",
       "      <td>0.0</td>\n",
       "    </tr>\n",
       "    <tr>\n",
       "      <th>45704513</th>\n",
       "      <td>677.85</td>\n",
       "      <td>10.0</td>\n",
       "      <td>84000.0</td>\n",
       "      <td>12.03</td>\n",
       "      <td>0</td>\n",
       "      <td>0</td>\n",
       "      <td>0</td>\n",
       "      <td>0</td>\n",
       "      <td>0.0</td>\n",
       "      <td>1.0</td>\n",
       "      <td>...</td>\n",
       "      <td>0</td>\n",
       "      <td>0</td>\n",
       "      <td>0</td>\n",
       "      <td>0</td>\n",
       "      <td>0</td>\n",
       "      <td>0</td>\n",
       "      <td>0</td>\n",
       "      <td>0</td>\n",
       "      <td>1</td>\n",
       "      <td>0.0</td>\n",
       "    </tr>\n",
       "    <tr>\n",
       "      <th>65261823</th>\n",
       "      <td>1182.33</td>\n",
       "      <td>0.0</td>\n",
       "      <td>90000.0</td>\n",
       "      <td>21.97</td>\n",
       "      <td>0</td>\n",
       "      <td>0</td>\n",
       "      <td>1</td>\n",
       "      <td>0</td>\n",
       "      <td>1.0</td>\n",
       "      <td>1.0</td>\n",
       "      <td>...</td>\n",
       "      <td>0</td>\n",
       "      <td>0</td>\n",
       "      <td>0</td>\n",
       "      <td>0</td>\n",
       "      <td>0</td>\n",
       "      <td>0</td>\n",
       "      <td>0</td>\n",
       "      <td>0</td>\n",
       "      <td>1</td>\n",
       "      <td>0.0</td>\n",
       "    </tr>\n",
       "    <tr>\n",
       "      <th>65686163</th>\n",
       "      <td>510.05</td>\n",
       "      <td>2.0</td>\n",
       "      <td>170000.0</td>\n",
       "      <td>18.21</td>\n",
       "      <td>0</td>\n",
       "      <td>0</td>\n",
       "      <td>0</td>\n",
       "      <td>1</td>\n",
       "      <td>1.0</td>\n",
       "      <td>0.0</td>\n",
       "      <td>...</td>\n",
       "      <td>0</td>\n",
       "      <td>0</td>\n",
       "      <td>0</td>\n",
       "      <td>0</td>\n",
       "      <td>0</td>\n",
       "      <td>0</td>\n",
       "      <td>0</td>\n",
       "      <td>0</td>\n",
       "      <td>0</td>\n",
       "      <td>0.0</td>\n",
       "    </tr>\n",
       "    <tr>\n",
       "      <th>51887109</th>\n",
       "      <td>212.43</td>\n",
       "      <td>1.0</td>\n",
       "      <td>91000.0</td>\n",
       "      <td>7.56</td>\n",
       "      <td>0</td>\n",
       "      <td>0</td>\n",
       "      <td>1</td>\n",
       "      <td>0</td>\n",
       "      <td>1.0</td>\n",
       "      <td>1.0</td>\n",
       "      <td>...</td>\n",
       "      <td>0</td>\n",
       "      <td>0</td>\n",
       "      <td>0</td>\n",
       "      <td>0</td>\n",
       "      <td>0</td>\n",
       "      <td>0</td>\n",
       "      <td>0</td>\n",
       "      <td>1</td>\n",
       "      <td>0</td>\n",
       "      <td>0.0</td>\n",
       "    </tr>\n",
       "    <tr>\n",
       "      <th>44017250</th>\n",
       "      <td>609.14</td>\n",
       "      <td>0.0</td>\n",
       "      <td>110000.0</td>\n",
       "      <td>32.89</td>\n",
       "      <td>0</td>\n",
       "      <td>0</td>\n",
       "      <td>1</td>\n",
       "      <td>0</td>\n",
       "      <td>1.0</td>\n",
       "      <td>0.0</td>\n",
       "      <td>...</td>\n",
       "      <td>0</td>\n",
       "      <td>0</td>\n",
       "      <td>0</td>\n",
       "      <td>0</td>\n",
       "      <td>0</td>\n",
       "      <td>0</td>\n",
       "      <td>0</td>\n",
       "      <td>0</td>\n",
       "      <td>0</td>\n",
       "      <td>0.0</td>\n",
       "    </tr>\n",
       "    <tr>\n",
       "      <th>38507061</th>\n",
       "      <td>367.74</td>\n",
       "      <td>10.0</td>\n",
       "      <td>110000.0</td>\n",
       "      <td>11.02</td>\n",
       "      <td>0</td>\n",
       "      <td>0</td>\n",
       "      <td>0</td>\n",
       "      <td>1</td>\n",
       "      <td>1.0</td>\n",
       "      <td>0.0</td>\n",
       "      <td>...</td>\n",
       "      <td>0</td>\n",
       "      <td>0</td>\n",
       "      <td>0</td>\n",
       "      <td>0</td>\n",
       "      <td>0</td>\n",
       "      <td>0</td>\n",
       "      <td>0</td>\n",
       "      <td>0</td>\n",
       "      <td>0</td>\n",
       "      <td>0.0</td>\n",
       "    </tr>\n",
       "  </tbody>\n",
       "</table>\n",
       "<p>10 rows × 28 columns</p>\n",
       "</div>"
      ],
      "text/plain": [
       "          installment  emp_length  annual_inc    dti  acc_now_delinq  \\\n",
       "id                                                                     \n",
       "54027458       439.88         5.0     50000.0  21.65               0   \n",
       "72594974       252.67         3.0     68000.0  29.09               0   \n",
       "71061534       870.44         5.0     55000.0  13.35               0   \n",
       "54474095       382.55         5.0     30000.0  19.04               0   \n",
       "45704513       677.85        10.0     84000.0  12.03               0   \n",
       "65261823      1182.33         0.0     90000.0  21.97               0   \n",
       "65686163       510.05         2.0    170000.0  18.21               0   \n",
       "51887109       212.43         1.0     91000.0   7.56               0   \n",
       "44017250       609.14         0.0    110000.0  32.89               0   \n",
       "38507061       367.74        10.0    110000.0  11.02               0   \n",
       "\n",
       "          delinq_amnt  delinq_2yrs  inq_last_6mths  delinq_before  \\\n",
       "id                                                                  \n",
       "54027458            0            0               0            0.0   \n",
       "72594974            0            0               2            0.0   \n",
       "71061534            0            0               1            0.0   \n",
       "54474095            0            0               0            0.0   \n",
       "45704513            0            0               0            0.0   \n",
       "65261823            0            1               0            1.0   \n",
       "65686163            0            0               1            1.0   \n",
       "51887109            0            1               0            1.0   \n",
       "44017250            0            1               0            1.0   \n",
       "38507061            0            0               1            1.0   \n",
       "\n",
       "          salary_verified  ...  purpose_medical  purpose_moving  \\\n",
       "id                         ...                                    \n",
       "54027458              1.0  ...                0               0   \n",
       "72594974              0.0  ...                0               0   \n",
       "71061534              1.0  ...                0               0   \n",
       "54474095              0.0  ...                0               0   \n",
       "45704513              1.0  ...                0               0   \n",
       "65261823              1.0  ...                0               0   \n",
       "65686163              0.0  ...                0               0   \n",
       "51887109              1.0  ...                0               0   \n",
       "44017250              0.0  ...                0               0   \n",
       "38507061              0.0  ...                0               0   \n",
       "\n",
       "          purpose_other  purpose_renewable_energy  purpose_small_business  \\\n",
       "id                                                                          \n",
       "54027458              0                         0                       0   \n",
       "72594974              0                         0                       0   \n",
       "71061534              1                         0                       0   \n",
       "54474095              0                         0                       0   \n",
       "45704513              0                         0                       0   \n",
       "65261823              0                         0                       0   \n",
       "65686163              0                         0                       0   \n",
       "51887109              0                         0                       0   \n",
       "44017250              0                         0                       0   \n",
       "38507061              0                         0                       0   \n",
       "\n",
       "          purpose_vacation  purpose_wedding  home_ownership_OWN  \\\n",
       "id                                                                \n",
       "54027458                 0                0                   0   \n",
       "72594974                 0                0                   0   \n",
       "71061534                 0                0                   0   \n",
       "54474095                 0                0                   0   \n",
       "45704513                 0                0                   0   \n",
       "65261823                 0                0                   0   \n",
       "65686163                 0                0                   0   \n",
       "51887109                 0                0                   1   \n",
       "44017250                 0                0                   0   \n",
       "38507061                 0                0                   0   \n",
       "\n",
       "          home_ownership_RENT  default  \n",
       "id                                      \n",
       "54027458                    1      0.0  \n",
       "72594974                    0      0.0  \n",
       "71061534                    1      0.0  \n",
       "54474095                    1      0.0  \n",
       "45704513                    1      0.0  \n",
       "65261823                    1      0.0  \n",
       "65686163                    0      0.0  \n",
       "51887109                    0      0.0  \n",
       "44017250                    0      0.0  \n",
       "38507061                    0      0.0  \n",
       "\n",
       "[10 rows x 28 columns]"
      ]
     },
     "metadata": {},
     "output_type": "display_data"
    }
   ],
   "source": [
    "#create dummies values for home_ownership and purpose features\n",
    "df = pd.get_dummies(df, columns=['purpose', 'home_ownership'], drop_first = True)\n",
    "\n",
    "#Convert loan_status column into numerical data. Fully_Paid : 0, Default: 1\n",
    "df['default'] = df['loan_status'].apply(lambda x: np.float(x == 'Default'))\n",
    "drop_cols('loan_status')\n",
    "\n",
    "#inspect data frame that is ready for machine learning\n",
    "print('FINAL DIMENSION OF DATAFRAME')\n",
    "print(df.shape)\n",
    "print('INSPECT FINAL DATAFRAME')\n",
    "print(df.info())\n",
    "print('Data distribution ')\n",
    "print(df['default'].value_counts(normalize = True)) \n",
    "display(df.head(10))"
   ]
  },
  {
   "cell_type": "code",
   "execution_count": 23,
   "metadata": {},
   "outputs": [
    {
     "data": {
      "image/png": "[encoded data removed]",
      "text/plain": [
       "<Figure size 1080x720 with 2 Axes>"
      ]
     },
     "metadata": {
      "needs_background": "light"
     },
     "output_type": "display_data"
    }
   ],
   "source": [
    "#heatmap shows pearson's correlation of all features with default\n",
    "fig, ax = plt.subplots(figsize=(15,10)) \n",
    "cm_df = sns.heatmap(df.corr(),annot=True, fmt = \".2f\", cmap = \"coolwarm\", ax=ax)\n",
    "plt.show()"
   ]
  },
  {
   "cell_type": "markdown",
   "metadata": {},
   "source": [
    "## 5. MACHINE LEARNING\n",
    "For this challenge, I will choose one of the Ensemble methods as machine leanring model for this dataset. Several options for Ensemble method such as Random Forest, Gradient Boosting or Adaptive Boosting can be used on the dataset.\n",
    "* Ensemble method combined several base learners into the final model to reduce generalization error.\n",
    "* Ensemble method relies on the fact that each base learner will look at different aspect of the dataset\n",
    "* Ensemble method will always perform better than a single base learner model\n",
    "* Combining multiple different models also reduces the correlation of each base learner, improve the performance of the ensemble model, and lead to outperform of the individual best model\n",
    "\n",
    "Our final dataset contains approximately 66% negative examples and 34% positive examples.\n",
    "* The class imbalance of this dataset can influence a learning algorithm during training by making the decision rule biased towards the majority class - implicitly train observation to make predictions based on the majority class. To reduce the effect of class imbalance in our dataset, we can use synthetic minority oversampling technique (SMOTE) to eliminate call imbalance.\n",
    "* Because there are potentially outliers in each of the features, we can use several methods such as interquartile range to identify and remove these data. However, this approach further reduce our dataset. We will use a RobustScaler to standardize our dataset and reduce the influence of outliers.\n",
    "* Last but not least, I will split the data into training set (70%), and test set (30%). Training set will be used to fit the model, and test set will be to evaluate the best model to get an estimation of generalization error. \n",
    "* We will use 5-folds cross validation through GridsearchSV to tune important hyperparameter of the model."
   ]
  },
  {
   "cell_type": "code",
   "execution_count": 24,
   "metadata": {},
   "outputs": [],
   "source": [
    "#select dependent and independent data\n",
    "X = df.drop('default', axis = 1)\n",
    "y = df['default']\n",
    "\n",
    "#Scaling X features\n",
    "X_transformed = RobustScaler().fit_transform(X)\n",
    "\n",
    "#initiate SMOTE\n",
    "smt = SMOTE (random_state = 42)\n",
    "X_resampled, y_resampled = smt.fit_resample(X_transformed, y)\n",
    "#checking whether resampling works\n",
    "unique_elements, counts_elements = np.unique(y_resampled, return_counts=True)\n",
    "\n",
    "#CREATE TRAIN AND TEST DATA SETS\n",
    "X_train, X_test, y_train, y_test = train_test_split(X_resampled,y_resampled, test_size=.3, random_state=42)"
   ]
  },
  {
   "cell_type": "markdown",
   "metadata": {},
   "source": [
    "Because the class imbalance in the dataset, accuracy of the model will not be a good measure to evaluate the model. Instead, I will use area under the ROC curve (AUC), log loss and f1-score to evaluate the model. \n",
    "* AUC is measuring the ability of the classifer to discriminate between positive and negative classes. The use of AUC will reduce the influence of class imbalance on model evaluation.\n",
    "* f1 score takes into account the precision and recall to compute the score."
   ]
  },
  {
   "cell_type": "code",
   "execution_count": 25,
   "metadata": {},
   "outputs": [],
   "source": [
    "#function to evaluate model \n",
    "def evaluate_model(model, y_test, y_pred, y_prob):\n",
    "    a,b,c,d = model, accuracy_score(y_test, y_pred), roc_auc_score(y_test, y_prob), f1_score(y_test, y_pred, average='weighted')\n",
    "    score_table = {'model': a, 'accuracy_score': b, 'auc_score': c, 'f1_score': d}\n",
    "    df_score_table = pd.DataFrame(data = score_table, index = [1])\n",
    "    print('\\n---Score table for ' + model + '---')\n",
    "    print(df_score_table)\n",
    "    tn, fp, fn, tp = confusion_matrix(y_test, y_pred).ravel()\n",
    "    print('---Confusion matrix for ' + model + '---')\n",
    "    print({'tn':tn,'fp':fp,'fn':fn,'tp':tp})"
   ]
  },
  {
   "cell_type": "markdown",
   "metadata": {},
   "source": [
    "Testing datasets with several classification models without tunining hyperparameters. We chose to use Logistic Regression, Decision Tree, Random Forest, Gradient Boosting, Adaptive Boosting and Xtreme Gradient Boosting"
   ]
  },
  {
   "cell_type": "code",
   "execution_count": 26,
   "metadata": {},
   "outputs": [],
   "source": [
    "#initiate models\n",
    "lg = LogisticRegression(random_state = 42, solver = 'lbfgs')\n",
    "tree = DecisionTreeClassifier(random_state = 42)\n",
    "rfc = RandomForestClassifier(random_state = 42, n_estimators = 10)\n",
    "gbc = GradientBoostingClassifier(random_state = 42)\n",
    "abc = AdaBoostClassifier(random_state = 42)\n",
    "xgb = XGBClassifier(objective=\"binary:logistic\", random_state=42)"
   ]
  },
  {
   "cell_type": "code",
   "execution_count": 30,
   "metadata": {},
   "outputs": [
    {
     "name": "stderr",
     "output_type": "stream",
     "text": [
      "/anaconda3/lib/python3.7/site-packages/sklearn/linear_model/logistic.py:758: ConvergenceWarning: lbfgs failed to converge. Increase the number of iterations.\n",
      "  \"of iterations.\", ConvergenceWarning)\n"
     ]
    },
    {
     "name": "stdout",
     "output_type": "stream",
     "text": [
      "\n",
      " LogisticRegression(C=1.0, class_weight=None, dual=False, fit_intercept=True,\n",
      "          intercept_scaling=1, max_iter=100, multi_class='warn',\n",
      "          n_jobs=None, penalty='l2', random_state=42, solver='lbfgs',\n",
      "          tol=0.0001, verbose=0, warm_start=False)\n",
      "\n",
      "---Score table for Logistic Regression---\n",
      "                 model  accuracy_score  auc_score  f1_score\n",
      "1  Logistic Regression        0.640627   0.693733  0.640629\n",
      "---Confusion matrix for Logistic Regression---\n",
      "{'tn': 2099, 'fp': 1167, 'fn': 1193, 'tp': 2108}\n",
      "\n",
      " DecisionTreeClassifier(class_weight=None, criterion='gini', max_depth=None,\n",
      "            max_features=None, max_leaf_nodes=None,\n",
      "            min_impurity_decrease=0.0, min_impurity_split=None,\n",
      "            min_samples_leaf=1, min_samples_split=2,\n",
      "            min_weight_fraction_leaf=0.0, presort=False, random_state=42,\n",
      "            splitter='best')\n",
      "\n",
      "---Score table for Decision Tree Classifier---\n",
      "                      model  accuracy_score  auc_score  f1_score\n",
      "1  Decision Tree Classifier        0.654485   0.654487  0.654487\n",
      "---Confusion matrix for Decision Tree Classifier---\n",
      "{'tn': 2139, 'fp': 1127, 'fn': 1142, 'tp': 2159}\n",
      "\n",
      " RandomForestClassifier(bootstrap=True, class_weight=None, criterion='gini',\n",
      "            max_depth=None, max_features='auto', max_leaf_nodes=None,\n",
      "            min_impurity_decrease=0.0, min_impurity_split=None,\n",
      "            min_samples_leaf=1, min_samples_split=2,\n",
      "            min_weight_fraction_leaf=0.0, n_estimators=10, n_jobs=None,\n",
      "            oob_score=False, random_state=42, verbose=0, warm_start=False)\n",
      "\n",
      "---Score table for Random Forest Classifier---\n",
      "                      model  accuracy_score  auc_score  f1_score\n",
      "1  Random Forest Classifier        0.719354   0.790957  0.718436\n",
      "---Confusion matrix for Random Forest Classifier---\n",
      "{'tn': 2541, 'fp': 725, 'fn': 1118, 'tp': 2183}\n",
      "\n",
      " GradientBoostingClassifier(criterion='friedman_mse', init=None,\n",
      "              learning_rate=0.1, loss='deviance', max_depth=3,\n",
      "              max_features=None, max_leaf_nodes=None,\n",
      "              min_impurity_decrease=0.0, min_impurity_split=None,\n",
      "              min_samples_leaf=1, min_samples_split=2,\n",
      "              min_weight_fraction_leaf=0.0, n_estimators=100,\n",
      "              n_iter_no_change=None, presort='auto', random_state=42,\n",
      "              subsample=1.0, tol=0.0001, validation_fraction=0.1,\n",
      "              verbose=0, warm_start=False)\n",
      "\n",
      "---Score table for Gradient Boosting Classifier---\n",
      "                          model  accuracy_score  auc_score  f1_score\n",
      "1  Gradient Boosting Classifier        0.727425   0.810987  0.727423\n",
      "---Confusion matrix for Gradient Boosting Classifier---\n",
      "{'tn': 2393, 'fp': 873, 'fn': 917, 'tp': 2384}\n",
      "\n",
      " AdaBoostClassifier(algorithm='SAMME.R', base_estimator=None,\n",
      "          learning_rate=1.0, n_estimators=50, random_state=42)\n",
      "\n",
      "---Score table for Adaptive Boosting Classifier---\n",
      "                          model  accuracy_score  auc_score  f1_score\n",
      "1  Adaptive Boosting Classifier        0.684331   0.751629  0.683788\n",
      "---Confusion matrix for Adaptive Boosting Classifier---\n",
      "{'tn': 2102, 'fp': 1164, 'fn': 909, 'tp': 2392}\n",
      "\n",
      " XGBClassifier(base_score=0.5, booster='gbtree', colsample_bylevel=1,\n",
      "       colsample_bynode=1, colsample_bytree=1, gamma=0, learning_rate=0.1,\n",
      "       max_delta_step=0, max_depth=3, min_child_weight=1, missing=None,\n",
      "       n_estimators=100, n_jobs=1, nthread=None,\n",
      "       objective='binary:logistic', random_state=42, reg_alpha=0,\n",
      "       reg_lambda=1, scale_pos_weight=1, seed=None, silent=None,\n",
      "       subsample=1, verbosity=1)\n",
      "\n",
      "---Score table for Xtreme Gradient Boosting---\n",
      "                      model  accuracy_score  auc_score  f1_score\n",
      "1  Xtreme Gradient Boosting        0.726359   0.811019  0.726344\n",
      "---Confusion matrix for Xtreme Gradient Boosting---\n",
      "{'tn': 2402, 'fp': 864, 'fn': 933, 'tp': 2368}\n"
     ]
    }
   ],
   "source": [
    "models = {lg:'Logistic Regression', tree:'Decision Tree Classifier', rfc : 'Random Forest Classifier', \n",
    "          gbc:'Gradient Boosting Classifier', abc: 'Adaptive Boosting Classifier', xgb:'Xtreme Gradient Boosting'}\n",
    "def fit_model(model,model_name, x_train, y_train, x_test, y_test) :\n",
    "    model.fit(x_train, y_train)\n",
    "    y_pred = model.predict(x_test)\n",
    "    y_prob = model.predict_proba(x_test)[:,1]\n",
    "    print('\\n',model)\n",
    "    evaluate_model(model_name, y_test, y_pred, y_prob)\n",
    "\n",
    "for model,model_name in models.items():\n",
    "    fit_model(model,model_name, X_train, y_train, X_test, y_test)\n",
    "    "
   ]
  },
  {
   "cell_type": "markdown",
   "metadata": {},
   "source": [
    "### 6. TUNING GRADIENT BOOSTING CLASSIFIER\n",
    "\n",
    "Our preliminary results showed that Xtreme Gradient Boosting can be a good candidate as the model for our dataset with high roc_auc_score and f1_score. \n",
    "* There are several hyperparameters that we will focus on tuning in this model\n",
    " * Tree-specific parameters:\n",
    "   - min_samples_split: the minimum number of samples (or observations) which are required in a node to be considered for splitting. (Control overfitting)\n",
    "   - min_samples_leaf: the minimum samples (or observations) required in a terminal node or leaf\n",
    "   - max_depth: maximum depth of a tree (Control overfitting)\n",
    "   - max_features: the number of features to consider while searching for a best split (sqrt number of features upto 30-40% of total feature)\n",
    " * Boosting parameter:\n",
    "   - n_estimators: the number of sequential trees to be model\n",
    "   - learning_rate: impact of each tree on the final outcome. Lower values create robust model but required higher n_estimators\n",
    "  "
   ]
  },
  {
   "cell_type": "code",
   "execution_count": 115,
   "metadata": {},
   "outputs": [
    {
     "name": "stdout",
     "output_type": "stream",
     "text": [
      "{'n_estimators': 110}\n",
      "0.730997798292386\n"
     ]
    }
   ],
   "source": [
    "#tuning n_estimators\n",
    "params_1 = {\n",
    "    'n_estimators' : [i for i in range(80,130,10)],\n",
    "}\n",
    "gsearch1 = GridSearchCV( gbc, param_grid = params_1, cv =5, scoring = ['f1', 'roc_auc'], refit = 'f1')\n",
    "gsearch1.fit(X_train, y_train)\n",
    "print(gsearch1.best_params_) \n",
    "print(gsearch1.best_score_) "
   ]
  },
  {
   "cell_type": "code",
   "execution_count": 41,
   "metadata": {},
   "outputs": [
    {
     "name": "stdout",
     "output_type": "stream",
     "text": [
      "{'max_depth': 8, 'min_samples_split': 80}\n",
      "0.7339388910939207\n"
     ]
    }
   ],
   "source": [
    "#tuning max_depth and min_samples_split\n",
    "params_2 = {\n",
    "    'max_depth' : [i for i in range (5,10,1)],\n",
    "    'min_samples_split' : [i for i in range (80,120,20)]\n",
    "}\n",
    "gsearch1 = GridSearchCV(GradientBoostingClassifier(random_state = 42, n_estimators = 110), \n",
    "                        param_grid = params_2, cv =5, scoring = ['f1', 'roc_auc'], refit = 'f1')\n",
    "gsearch1.fit(X_train, y_train)\n",
    "print(gsearch1.best_params_) \n",
    "print(gsearch1.best_score_)  "
   ]
  },
  {
   "cell_type": "code",
   "execution_count": 33,
   "metadata": {},
   "outputs": [
    {
     "name": "stdout",
     "output_type": "stream",
     "text": [
      "{'min_samples_leaf': 15}\n",
      "0.7331566751011214\n"
     ]
    }
   ],
   "source": [
    "#tuning min_sample_leaf\n",
    "params_3 = {\n",
    "    'min_samples_leaf' : [i for i in range (10,31,5)]\n",
    "}\n",
    "gsearch1 = GridSearchCV(GradientBoostingClassifier(random_state = 42, n_estimators = 110,  \n",
    "                                                   max_depth = 8, min_samples_split = 80), \n",
    "                        param_grid = params_3, cv =5, scoring = ['f1', 'roc_auc'], refit = 'f1')\n",
    "gsearch1.fit(X_train, y_train)\n",
    "print(gsearch1.best_params_) \n",
    "print(gsearch1.best_score_) "
   ]
  },
  {
   "cell_type": "code",
   "execution_count": 34,
   "metadata": {},
   "outputs": [
    {
     "name": "stdout",
     "output_type": "stream",
     "text": [
      "{'max_features': 5}\n",
      "0.7343344976217154\n"
     ]
    }
   ],
   "source": [
    "#tuning max_features\n",
    "params_4 = {\n",
    "    'max_features' : [i for i in range (1,12,2)]\n",
    "}\n",
    "gsearch2 = GridSearchCV(GradientBoostingClassifier(random_state = 42, n_estimators = 110, \n",
    "                                                   max_depth = 8, min_samples_split = 80,\n",
    "                                                   min_samples_leaf = 15), \n",
    "                        param_grid = params_4, cv =5, scoring = ['f1', 'roc_auc'], refit = 'f1')\n",
    "gsearch2.fit(X_train, y_train)\n",
    "print(gsearch2.best_params_) \n",
    "print(gsearch2.best_score_) "
   ]
  },
  {
   "cell_type": "code",
   "execution_count": 35,
   "metadata": {},
   "outputs": [
    {
     "name": "stdout",
     "output_type": "stream",
     "text": [
      "{'subsample': 0.5}\n",
      "0.7344767201823215\n"
     ]
    }
   ],
   "source": [
    "#tuning subsample\n",
    "params_5 = {\n",
    "    'subsample' : [i/100 for i in range (40,90,5)]\n",
    "}\n",
    "gsearch3 = GridSearchCV(GradientBoostingClassifier(random_state = 42, n_estimators = 110, \n",
    "                                                   max_depth = 8, min_samples_split = 80,\n",
    "                                                   min_samples_leaf = 15, max_features = 5), \n",
    "                        param_grid = params_5, cv =5, scoring = ['f1', 'roc_auc'], refit = 'f1')\n",
    "gsearch3.fit(X_train, y_train)\n",
    "print(gsearch3.best_params_) \n",
    "print(gsearch3.best_score_) "
   ]
  },
  {
   "cell_type": "code",
   "execution_count": 37,
   "metadata": {},
   "outputs": [
    {
     "name": "stdout",
     "output_type": "stream",
     "text": [
      "{'learning_rate': 0.1}\n",
      "0.7344767201823215\n"
     ]
    }
   ],
   "source": [
    "#tuning learning_rate\n",
    "params_6 = {\n",
    "    'learning_rate' : [i/100 for i in range (6,15,2)],\n",
    "}\n",
    "gsearch1 = GridSearchCV(GradientBoostingClassifier(random_state = 42, n_estimators = 110, \n",
    "                                                   max_depth = 8, min_samples_split = 80, \n",
    "                                                   min_samples_leaf = 15, max_features = 5,\n",
    "                                                   subsample = 0.5), \n",
    "                        param_grid = params_6, cv =5, scoring = ['f1', 'roc_auc'], refit = 'f1')\n",
    "gsearch1.fit(X_train, y_train)\n",
    "print(gsearch1.best_params_) \n",
    "print(gsearch1.best_score_) "
   ]
  },
  {
   "cell_type": "markdown",
   "metadata": {},
   "source": [
    "### 7. SCORE AND FEATURE IMPORTANCE\n",
    "* Graphing of important features indicated that the top 7 important features are:\n",
    "   - 1: 'interest_rate'\n",
    "   - 2: 'fico_score'\n",
    "   - 3: 'emp_length'\n",
    "   - 4: 'dti'\n",
    "   - 5: 'installment'\n",
    "   - 6: 'annual_inc'\n",
    "   - 7: 'credit_length'"
   ]
  },
  {
   "cell_type": "code",
   "execution_count": 38,
   "metadata": {},
   "outputs": [
    {
     "name": "stdout",
     "output_type": "stream",
     "text": [
      "\n",
      "---Score table for Tuned XGB Classifier---\n",
      "                  model  accuracy_score  auc_score  f1_score\n",
      "1  Tuned XGB Classifier        0.739455   0.821044  0.739258\n",
      "---Confusion matrix for Tuned XGB Classifier---\n",
      "{'tn': 2510, 'fp': 756, 'fn': 955, 'tp': 2346}\n"
     ]
    },
    {
     "data": {
      "image/png": "[encoded data removed]",
      "text/plain": [
       "<Figure size 1152x576 with 1 Axes>"
      ]
     },
     "metadata": {
      "needs_background": "light"
     },
     "output_type": "display_data"
    }
   ],
   "source": [
    "#final tuned GBclassifier model\n",
    "gbc_tuned = GradientBoostingClassifier(random_state = 42, n_estimators = 110, \n",
    "                                                   max_depth = 8, min_samples_split = 80, \n",
    "                                                   min_samples_leaf = 15, max_features = 5,\n",
    "                                                   subsample = 0.5, learning_rate = 0.1)\n",
    "gbc_tuned.fit(X_train, y_train)\n",
    "gbc_tuned_y_pred = gbc_tuned.predict(X_test)\n",
    "gbc_tuned_y_prob = gbc_tuned.predict_proba(X_test)[:,1]\n",
    "#show evaluation score\n",
    "evaluate_model('Tuned XGB Classifier',y_test, gbc_tuned_y_pred, gbc_tuned_y_prob)\n",
    "#create important features with score\n",
    "df_impt = pd.DataFrame({'feature': X.columns, 'score': gbc_tuned.feature_importances_}).sort_values(by = ['score'], ascending = False)\n",
    "#graph\n",
    "plt.subplots(figsize = (16,8))\n",
    "ax = sns.barplot(y = 'feature', x = 'score', data = df_impt, color = 'b')"
   ]
  },
  {
   "cell_type": "markdown",
   "metadata": {},
   "source": [
    "### 8. ADJUSTING DECISION THRESHOLD\n",
    "\n",
    "Eventhough our tuned model improved roc_auc_score and f1_score significantly and the model is easy to interpret with list of important features, this model does not reduce the amount of false negative (or default borrower but predicted as fully-paid by the model). One way to reduce false negative is to adjust the decision threshold. This below code shows how adjusting decision threshold will alter the amount of false negative in the prediction model, but also increase false positive.\n",
    "\n",
    "While false negative is costly to the loan company, too many false positive can also decrease the maximum profits that a loan investor can get. Thus, we will need to make a decision to set an appropriate threshold for the model such that there is an appropiate ratio between false negative and false positive so that a loan investor can maximize its profit."
   ]
  },
  {
   "cell_type": "code",
   "execution_count": 39,
   "metadata": {},
   "outputs": [],
   "source": [
    "def adjusted_classes(y_scores, t):\n",
    "    '''adjust the class based on the new threshold. Only work for binary classification'''\n",
    "    return [1 if y >= t else 0 for y in y_scores]"
   ]
  },
  {
   "cell_type": "code",
   "execution_count": 40,
   "metadata": {},
   "outputs": [],
   "source": [
    "# generate the precision recall curve\n",
    "precision, recall, thresholds = precision_recall_curve(y_test, gbc_tuned_y_prob)"
   ]
  },
  {
   "cell_type": "code",
   "execution_count": 43,
   "metadata": {},
   "outputs": [],
   "source": [
    "def precision_recall_threshold_matrix(t):\n",
    "    '''create confusion matrix for new adjusted threshold'''\n",
    "    # generate new class predictions based on the adjusted_classes\n",
    "    y_pred_adj = adjusted_classes(gbc_tuned_y_prob, t)\n",
    "    print('Confusion matrix for threshold = ' + str(t))\n",
    "    display(pd.DataFrame(confusion_matrix(y_test, y_pred_adj),\n",
    "                       columns=['pred_neg', 'pred_pos'], \n",
    "                       index=['neg', 'pos']))\n",
    "    \n",
    "def precision_recall_threshold_curve(t):\n",
    "    '''plots the precision recall curve and shows the current value for each\n",
    "    by identifying the classifier's threshold (t).'''\n",
    "    y_pred_adj = adjusted_classes(gbc_tuned_y_prob, t)\n",
    "    # plot the curve\n",
    "    plt.figure(figsize=(4,4))\n",
    "    plt.title(\"Precision and Recall curve at threshold = \" + str(t))\n",
    "    plt.step(recall, precision, color='r')\n",
    "    plt.ylim([0.5, 1.01]);\n",
    "    plt.xlim([0.5, 1.01]);\n",
    "    plt.xlabel('Recall');\n",
    "    plt.ylabel('Precision');\n",
    "    \n",
    "    # plot the current threshold on the line\n",
    "    close_default_clf = np.argmin(np.abs(thresholds - t))\n",
    "    plt.plot(recall[close_default_clf], precision[close_default_clf], '^', c='k',\n",
    "            markersize=10)\n",
    "    plt.show()"
   ]
  },
  {
   "cell_type": "code",
   "execution_count": 44,
   "metadata": {},
   "outputs": [
    {
     "name": "stdout",
     "output_type": "stream",
     "text": [
      "Confusion matrix for threshold = 0.1\n"
     ]
    },
    {
     "data": {
      "text/html": [
       "<div>\n",
       "<style scoped>\n",
       "    .dataframe tbody tr th:only-of-type {\n",
       "        vertical-align: middle;\n",
       "    }\n",
       "\n",
       "    .dataframe tbody tr th {\n",
       "        vertical-align: top;\n",
       "    }\n",
       "\n",
       "    .dataframe thead th {\n",
       "        text-align: right;\n",
       "    }\n",
       "</style>\n",
       "<table border=\"1\" class=\"dataframe\">\n",
       "  <thead>\n",
       "    <tr style=\"text-align: right;\">\n",
       "      <th></th>\n",
       "      <th>pred_neg</th>\n",
       "      <th>pred_pos</th>\n",
       "    </tr>\n",
       "  </thead>\n",
       "  <tbody>\n",
       "    <tr>\n",
       "      <th>neg</th>\n",
       "      <td>317</td>\n",
       "      <td>2949</td>\n",
       "    </tr>\n",
       "    <tr>\n",
       "      <th>pos</th>\n",
       "      <td>21</td>\n",
       "      <td>3280</td>\n",
       "    </tr>\n",
       "  </tbody>\n",
       "</table>\n",
       "</div>"
      ],
      "text/plain": [
       "     pred_neg  pred_pos\n",
       "neg       317      2949\n",
       "pos        21      3280"
      ]
     },
     "metadata": {},
     "output_type": "display_data"
    },
    {
     "data": {
      "image/png": "[encoded data removed]",
      "text/plain": [
       "<Figure size 288x288 with 1 Axes>"
      ]
     },
     "metadata": {
      "needs_background": "light"
     },
     "output_type": "display_data"
    },
    {
     "name": "stdout",
     "output_type": "stream",
     "text": [
      "Confusion matrix for threshold = 0.15\n"
     ]
    },
    {
     "data": {
      "text/html": [
       "<div>\n",
       "<style scoped>\n",
       "    .dataframe tbody tr th:only-of-type {\n",
       "        vertical-align: middle;\n",
       "    }\n",
       "\n",
       "    .dataframe tbody tr th {\n",
       "        vertical-align: top;\n",
       "    }\n",
       "\n",
       "    .dataframe thead th {\n",
       "        text-align: right;\n",
       "    }\n",
       "</style>\n",
       "<table border=\"1\" class=\"dataframe\">\n",
       "  <thead>\n",
       "    <tr style=\"text-align: right;\">\n",
       "      <th></th>\n",
       "      <th>pred_neg</th>\n",
       "      <th>pred_pos</th>\n",
       "    </tr>\n",
       "  </thead>\n",
       "  <tbody>\n",
       "    <tr>\n",
       "      <th>neg</th>\n",
       "      <td>557</td>\n",
       "      <td>2709</td>\n",
       "    </tr>\n",
       "    <tr>\n",
       "      <th>pos</th>\n",
       "      <td>74</td>\n",
       "      <td>3227</td>\n",
       "    </tr>\n",
       "  </tbody>\n",
       "</table>\n",
       "</div>"
      ],
      "text/plain": [
       "     pred_neg  pred_pos\n",
       "neg       557      2709\n",
       "pos        74      3227"
      ]
     },
     "metadata": {},
     "output_type": "display_data"
    },
    {
     "data": {
      "image/png": "[encoded data removed]",
      "text/plain": [
       "<Figure size 288x288 with 1 Axes>"
      ]
     },
     "metadata": {
      "needs_background": "light"
     },
     "output_type": "display_data"
    },
    {
     "name": "stdout",
     "output_type": "stream",
     "text": [
      "Confusion matrix for threshold = 0.2\n"
     ]
    },
    {
     "data": {
      "text/html": [
       "<div>\n",
       "<style scoped>\n",
       "    .dataframe tbody tr th:only-of-type {\n",
       "        vertical-align: middle;\n",
       "    }\n",
       "\n",
       "    .dataframe tbody tr th {\n",
       "        vertical-align: top;\n",
       "    }\n",
       "\n",
       "    .dataframe thead th {\n",
       "        text-align: right;\n",
       "    }\n",
       "</style>\n",
       "<table border=\"1\" class=\"dataframe\">\n",
       "  <thead>\n",
       "    <tr style=\"text-align: right;\">\n",
       "      <th></th>\n",
       "      <th>pred_neg</th>\n",
       "      <th>pred_pos</th>\n",
       "    </tr>\n",
       "  </thead>\n",
       "  <tbody>\n",
       "    <tr>\n",
       "      <th>neg</th>\n",
       "      <td>836</td>\n",
       "      <td>2430</td>\n",
       "    </tr>\n",
       "    <tr>\n",
       "      <th>pos</th>\n",
       "      <td>129</td>\n",
       "      <td>3172</td>\n",
       "    </tr>\n",
       "  </tbody>\n",
       "</table>\n",
       "</div>"
      ],
      "text/plain": [
       "     pred_neg  pred_pos\n",
       "neg       836      2430\n",
       "pos       129      3172"
      ]
     },
     "metadata": {},
     "output_type": "display_data"
    },
    {
     "data": {
      "image/png": "[encoded data removed]",
      "text/plain": [
       "<Figure size 288x288 with 1 Axes>"
      ]
     },
     "metadata": {
      "needs_background": "light"
     },
     "output_type": "display_data"
    },
    {
     "name": "stdout",
     "output_type": "stream",
     "text": [
      "Confusion matrix for threshold = 0.25\n"
     ]
    },
    {
     "data": {
      "text/html": [
       "<div>\n",
       "<style scoped>\n",
       "    .dataframe tbody tr th:only-of-type {\n",
       "        vertical-align: middle;\n",
       "    }\n",
       "\n",
       "    .dataframe tbody tr th {\n",
       "        vertical-align: top;\n",
       "    }\n",
       "\n",
       "    .dataframe thead th {\n",
       "        text-align: right;\n",
       "    }\n",
       "</style>\n",
       "<table border=\"1\" class=\"dataframe\">\n",
       "  <thead>\n",
       "    <tr style=\"text-align: right;\">\n",
       "      <th></th>\n",
       "      <th>pred_neg</th>\n",
       "      <th>pred_pos</th>\n",
       "    </tr>\n",
       "  </thead>\n",
       "  <tbody>\n",
       "    <tr>\n",
       "      <th>neg</th>\n",
       "      <td>1141</td>\n",
       "      <td>2125</td>\n",
       "    </tr>\n",
       "    <tr>\n",
       "      <th>pos</th>\n",
       "      <td>208</td>\n",
       "      <td>3093</td>\n",
       "    </tr>\n",
       "  </tbody>\n",
       "</table>\n",
       "</div>"
      ],
      "text/plain": [
       "     pred_neg  pred_pos\n",
       "neg      1141      2125\n",
       "pos       208      3093"
      ]
     },
     "metadata": {},
     "output_type": "display_data"
    },
    {
     "data": {
      "image/png": "[encoded data removed]",
      "text/plain": [
       "<Figure size 288x288 with 1 Axes>"
      ]
     },
     "metadata": {
      "needs_background": "light"
     },
     "output_type": "display_data"
    },
    {
     "name": "stdout",
     "output_type": "stream",
     "text": [
      "Confusion matrix for threshold = 0.3\n"
     ]
    },
    {
     "data": {
      "text/html": [
       "<div>\n",
       "<style scoped>\n",
       "    .dataframe tbody tr th:only-of-type {\n",
       "        vertical-align: middle;\n",
       "    }\n",
       "\n",
       "    .dataframe tbody tr th {\n",
       "        vertical-align: top;\n",
       "    }\n",
       "\n",
       "    .dataframe thead th {\n",
       "        text-align: right;\n",
       "    }\n",
       "</style>\n",
       "<table border=\"1\" class=\"dataframe\">\n",
       "  <thead>\n",
       "    <tr style=\"text-align: right;\">\n",
       "      <th></th>\n",
       "      <th>pred_neg</th>\n",
       "      <th>pred_pos</th>\n",
       "    </tr>\n",
       "  </thead>\n",
       "  <tbody>\n",
       "    <tr>\n",
       "      <th>neg</th>\n",
       "      <td>1443</td>\n",
       "      <td>1823</td>\n",
       "    </tr>\n",
       "    <tr>\n",
       "      <th>pos</th>\n",
       "      <td>329</td>\n",
       "      <td>2972</td>\n",
       "    </tr>\n",
       "  </tbody>\n",
       "</table>\n",
       "</div>"
      ],
      "text/plain": [
       "     pred_neg  pred_pos\n",
       "neg      1443      1823\n",
       "pos       329      2972"
      ]
     },
     "metadata": {},
     "output_type": "display_data"
    },
    {
     "data": {
      "image/png": "[encoded data removed]",
      "text/plain": [
       "<Figure size 288x288 with 1 Axes>"
      ]
     },
     "metadata": {
      "needs_background": "light"
     },
     "output_type": "display_data"
    },
    {
     "name": "stdout",
     "output_type": "stream",
     "text": [
      "Confusion matrix for threshold = 0.35\n"
     ]
    },
    {
     "data": {
      "text/html": [
       "<div>\n",
       "<style scoped>\n",
       "    .dataframe tbody tr th:only-of-type {\n",
       "        vertical-align: middle;\n",
       "    }\n",
       "\n",
       "    .dataframe tbody tr th {\n",
       "        vertical-align: top;\n",
       "    }\n",
       "\n",
       "    .dataframe thead th {\n",
       "        text-align: right;\n",
       "    }\n",
       "</style>\n",
       "<table border=\"1\" class=\"dataframe\">\n",
       "  <thead>\n",
       "    <tr style=\"text-align: right;\">\n",
       "      <th></th>\n",
       "      <th>pred_neg</th>\n",
       "      <th>pred_pos</th>\n",
       "    </tr>\n",
       "  </thead>\n",
       "  <tbody>\n",
       "    <tr>\n",
       "      <th>neg</th>\n",
       "      <td>1751</td>\n",
       "      <td>1515</td>\n",
       "    </tr>\n",
       "    <tr>\n",
       "      <th>pos</th>\n",
       "      <td>467</td>\n",
       "      <td>2834</td>\n",
       "    </tr>\n",
       "  </tbody>\n",
       "</table>\n",
       "</div>"
      ],
      "text/plain": [
       "     pred_neg  pred_pos\n",
       "neg      1751      1515\n",
       "pos       467      2834"
      ]
     },
     "metadata": {},
     "output_type": "display_data"
    },
    {
     "data": {
      "image/png": "[encoded data removed]",
      "text/plain": [
       "<Figure size 288x288 with 1 Axes>"
      ]
     },
     "metadata": {
      "needs_background": "light"
     },
     "output_type": "display_data"
    },
    {
     "name": "stdout",
     "output_type": "stream",
     "text": [
      "Confusion matrix for threshold = 0.4\n"
     ]
    },
    {
     "data": {
      "text/html": [
       "<div>\n",
       "<style scoped>\n",
       "    .dataframe tbody tr th:only-of-type {\n",
       "        vertical-align: middle;\n",
       "    }\n",
       "\n",
       "    .dataframe tbody tr th {\n",
       "        vertical-align: top;\n",
       "    }\n",
       "\n",
       "    .dataframe thead th {\n",
       "        text-align: right;\n",
       "    }\n",
       "</style>\n",
       "<table border=\"1\" class=\"dataframe\">\n",
       "  <thead>\n",
       "    <tr style=\"text-align: right;\">\n",
       "      <th></th>\n",
       "      <th>pred_neg</th>\n",
       "      <th>pred_pos</th>\n",
       "    </tr>\n",
       "  </thead>\n",
       "  <tbody>\n",
       "    <tr>\n",
       "      <th>neg</th>\n",
       "      <td>2017</td>\n",
       "      <td>1249</td>\n",
       "    </tr>\n",
       "    <tr>\n",
       "      <th>pos</th>\n",
       "      <td>617</td>\n",
       "      <td>2684</td>\n",
       "    </tr>\n",
       "  </tbody>\n",
       "</table>\n",
       "</div>"
      ],
      "text/plain": [
       "     pred_neg  pred_pos\n",
       "neg      2017      1249\n",
       "pos       617      2684"
      ]
     },
     "metadata": {},
     "output_type": "display_data"
    },
    {
     "data": {
      "image/png": "[encoded data removed]",
      "text/plain": [
       "<Figure size 288x288 with 1 Axes>"
      ]
     },
     "metadata": {
      "needs_background": "light"
     },
     "output_type": "display_data"
    },
    {
     "name": "stdout",
     "output_type": "stream",
     "text": [
      "Confusion matrix for threshold = 0.45\n"
     ]
    },
    {
     "data": {
      "text/html": [
       "<div>\n",
       "<style scoped>\n",
       "    .dataframe tbody tr th:only-of-type {\n",
       "        vertical-align: middle;\n",
       "    }\n",
       "\n",
       "    .dataframe tbody tr th {\n",
       "        vertical-align: top;\n",
       "    }\n",
       "\n",
       "    .dataframe thead th {\n",
       "        text-align: right;\n",
       "    }\n",
       "</style>\n",
       "<table border=\"1\" class=\"dataframe\">\n",
       "  <thead>\n",
       "    <tr style=\"text-align: right;\">\n",
       "      <th></th>\n",
       "      <th>pred_neg</th>\n",
       "      <th>pred_pos</th>\n",
       "    </tr>\n",
       "  </thead>\n",
       "  <tbody>\n",
       "    <tr>\n",
       "      <th>neg</th>\n",
       "      <td>2264</td>\n",
       "      <td>1002</td>\n",
       "    </tr>\n",
       "    <tr>\n",
       "      <th>pos</th>\n",
       "      <td>790</td>\n",
       "      <td>2511</td>\n",
       "    </tr>\n",
       "  </tbody>\n",
       "</table>\n",
       "</div>"
      ],
      "text/plain": [
       "     pred_neg  pred_pos\n",
       "neg      2264      1002\n",
       "pos       790      2511"
      ]
     },
     "metadata": {},
     "output_type": "display_data"
    },
    {
     "data": {
      "image/png": "[encoded data removed]",
      "text/plain": [
       "<Figure size 288x288 with 1 Axes>"
      ]
     },
     "metadata": {
      "needs_background": "light"
     },
     "output_type": "display_data"
    },
    {
     "name": "stdout",
     "output_type": "stream",
     "text": [
      "Confusion matrix for threshold = 0.5\n"
     ]
    },
    {
     "data": {
      "text/html": [
       "<div>\n",
       "<style scoped>\n",
       "    .dataframe tbody tr th:only-of-type {\n",
       "        vertical-align: middle;\n",
       "    }\n",
       "\n",
       "    .dataframe tbody tr th {\n",
       "        vertical-align: top;\n",
       "    }\n",
       "\n",
       "    .dataframe thead th {\n",
       "        text-align: right;\n",
       "    }\n",
       "</style>\n",
       "<table border=\"1\" class=\"dataframe\">\n",
       "  <thead>\n",
       "    <tr style=\"text-align: right;\">\n",
       "      <th></th>\n",
       "      <th>pred_neg</th>\n",
       "      <th>pred_pos</th>\n",
       "    </tr>\n",
       "  </thead>\n",
       "  <tbody>\n",
       "    <tr>\n",
       "      <th>neg</th>\n",
       "      <td>2510</td>\n",
       "      <td>756</td>\n",
       "    </tr>\n",
       "    <tr>\n",
       "      <th>pos</th>\n",
       "      <td>955</td>\n",
       "      <td>2346</td>\n",
       "    </tr>\n",
       "  </tbody>\n",
       "</table>\n",
       "</div>"
      ],
      "text/plain": [
       "     pred_neg  pred_pos\n",
       "neg      2510       756\n",
       "pos       955      2346"
      ]
     },
     "metadata": {},
     "output_type": "display_data"
    },
    {
     "data": {
      "image/png": "[encoded data removed]",
      "text/plain": [
       "<Figure size 288x288 with 1 Axes>"
      ]
     },
     "metadata": {
      "needs_background": "light"
     },
     "output_type": "display_data"
    }
   ],
   "source": [
    "for i in [i/100 for i in range(10,51,5)]:\n",
    "    precision_recall_threshold_matrix(i) \n",
    "    precision_recall_threshold_curve(i)"
   ]
  }
 ],
 "metadata": {
  "kernelspec": {
   "display_name": "Python 3",
   "language": "python",
   "name": "python3"
  },
  "language_info": {
   "codemirror_mode": {
    "name": "ipython",
    "version": 3
   },
   "file_extension": ".py",
   "mimetype": "text/x-python",
   "name": "python",
   "nbconvert_exporter": "python",
   "pygments_lexer": "ipython3",
   "version": "3.7.3"
  }
 },
 "nbformat": 4,
 "nbformat_minor": 2
}
